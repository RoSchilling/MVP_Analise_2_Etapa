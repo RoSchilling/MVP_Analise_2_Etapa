{
  "cells": [
    {
      "cell_type": "markdown",
      "metadata": {
        "id": "view-in-github",
        "colab_type": "text"
      },
      "source": [
        "<a href=\"https://colab.research.google.com/github/RoSchilling/MVP_Analise_2_Etapa/blob/main/MV_Analise_2_Etapa.ipynb\" target=\"_parent\"><img src=\"https://colab.research.google.com/assets/colab-badge.svg\" alt=\"Open In Colab\"/></a>"
      ]
    },
    {
      "cell_type": "markdown",
      "metadata": {
        "id": "lwPKSNF96YPV"
      },
      "source": [
        "# Introdução"
      ]
    },
    {
      "cell_type": "markdown",
      "metadata": {
        "id": "RDv37nX467Lz"
      },
      "source": [
        "\n",
        "O presente notebook faz parte da segunda entrega da Especialização em Ciência de Dados e Analytics da PUC-RIO. Este documento foi dividido em três partes:\n",
        "\n",
        "A primeira parte contém os pacotes utilizados neste notebook, a importação dos dataframes necessários e funções que foram criadas com o objetivo de facilitar a analise dos dados.\n",
        "\n",
        "Na segunda etapa, realizamos a análise da base de dados 'Bank Marketing', disponível no UCI e no ambiente do Github junto a este documento. Desenvolvemos um modelo de classificação para compreender as características dos clientes do banco e prever se eles iriam realizar um depósito a termo ou não.\n",
        "\n",
        "Na terceira etapa, analisamos o dataset 'Brazil - Monetary Policy Committee Minutes', disponibilizado no Kaggle. Neste momento, aplicamos técnicas de Processamento de Linguagem Natural (NLP) para entender melhor o conteúdo das minutas das atas do Comitê de Política Monetária brasileiro.\n",
        "\n",
        "A descrição do problema, a formulação das hipóteses e a descrição dos dados para cada uma das análises foram elaboradas no tópico denominado 'Contextualização' de cada respectiva etapa referente ao treinamento dos modelos."
      ]
    },
    {
      "cell_type": "markdown",
      "metadata": {
        "id": "ExjgLhg2DcCF"
      },
      "source": [
        "# 1. Processo iniciais"
      ]
    },
    {
      "cell_type": "markdown",
      "metadata": {
        "id": "aa3mqpWCDzCh"
      },
      "source": [
        "## 1.1 - Importando os pacotes"
      ]
    },
    {
      "cell_type": "code",
      "execution_count": null,
      "metadata": {
        "id": "YmpYj97gCl6O"
      },
      "outputs": [],
      "source": [
        "# Configuração para não exibir os warnings\n",
        "import warnings\n",
        "warnings.filterwarnings(\"ignore\")\n",
        "\n",
        "# Imports necessários Classificação\n",
        "import pandas as pd\n",
        "import numpy as np\n",
        "import matplotlib.pyplot as plt\n",
        "from sklearn.preprocessing import StandardScaler\n",
        "from sklearn.preprocessing import MinMaxScaler\n",
        "from sklearn.model_selection import train_test_split # para particionar em bases de treino e teste (holdout)\n",
        "from sklearn.model_selection import KFold # para preparar os folds da validação cruzada\n",
        "from sklearn.model_selection import cross_val_score # para executar a validação cruzada\n",
        "from sklearn.metrics import accuracy_score # para a exibição da acurácia do modelo\n",
        "from sklearn.neighbors import KNeighborsClassifier # algoritmo KNN\n",
        "from sklearn.tree import DecisionTreeClassifier # algoritmo Árvore de Classificação\n",
        "from sklearn.naive_bayes import GaussianNB # algoritmo Naive Bayes\n",
        "from sklearn.svm import SVC # algoritmo SVM\n",
        "from sklearn.pipeline import Pipeline\n",
        "from sklearn.model_selection import GridSearchCV\n",
        "\n",
        "# Imports necessários PLN\n",
        "import re  # For preprocessing\n",
        "import nltk\n",
        "from nltk.tokenize import word_tokenize # Para criar tokens das palavras\n",
        "from time import time  # To time our operations\n",
        "from collections import defaultdict  # For word frequency\n",
        "import spacy  # For preprocessing\n",
        "import logging  # Setting up the loggings to monitor gensim\n",
        "from spacy.lang.pt.examples import sentences\n",
        "import multiprocessing\n",
        "from gensim.models import Word2Vec\n",
        "from nltk.probability import FreqDist"
      ]
    },
    {
      "cell_type": "markdown",
      "metadata": {
        "id": "cAOP_69zD3qd"
      },
      "source": [
        "## 1.2 Carregando o DataFrame"
      ]
    },
    {
      "cell_type": "markdown",
      "metadata": {
        "id": "iCENiQlEk96b"
      },
      "source": [
        "## 1.2.1 Importando dados de Classificação"
      ]
    },
    {
      "cell_type": "code",
      "execution_count": null,
      "metadata": {
        "id": "GTFQ1-HcEbCA"
      },
      "outputs": [],
      "source": [
        "# Configurando o URL da base de dados\n",
        "url = 'https://raw.githubusercontent.com/RoSchilling/MVP_Analise_2_Etapa/main/bank-full.csv'\n",
        "\n",
        "bank = pd.read_csv(url, sep=';')"
      ]
    },
    {
      "cell_type": "markdown",
      "metadata": {
        "id": "neKfGY3BlCqX"
      },
      "source": [
        "## 1.2.2 Importando dados de PLN"
      ]
    },
    {
      "cell_type": "code",
      "execution_count": null,
      "metadata": {
        "id": "HNuP5YiClXtm"
      },
      "outputs": [],
      "source": [
        "url = 'https://raw.githubusercontent.com/RoSchilling/MVP_Analise_2_Etapa/main/bcb-copom.csv'\n",
        "\n",
        "compom = pd.read_csv(url)"
      ]
    },
    {
      "cell_type": "markdown",
      "metadata": {
        "id": "Db_ZQAV5E7OM"
      },
      "source": [
        "## 1.3 - Funções Úteis"
      ]
    },
    {
      "cell_type": "code",
      "execution_count": null,
      "metadata": {
        "id": "DWJv54RqEvyP"
      },
      "outputs": [],
      "source": [
        "# Função para retirar os caracteres expeciais\n",
        "def limpar_texto(texto):\n",
        "    clean_text = re.sub(r'[^\\w\\s]+', ' ', texto)\n",
        "\n",
        "    return clean_text\n",
        "\n",
        "# Função para verificar a frequencia das palavras\n",
        "def cleaning(doc):\n",
        "  # Flexionando e removendo as stopwords\n",
        "  txt = [\n",
        "      token.lemma_ for token in doc if not token.is_stop\n",
        "  ]\n",
        "  if len(txt) > 2:\n",
        "    return ' '.join(txt)\n",
        "\n",
        "\n"
      ]
    },
    {
      "cell_type": "markdown",
      "metadata": {
        "id": "9aLc6_0i-EHp"
      },
      "source": [
        "# 2. Modelo de Classificação"
      ]
    },
    {
      "cell_type": "markdown",
      "metadata": {
        "id": "E_QjsktL-H2u"
      },
      "source": [
        "## 2.1 Contextualização\n",
        "\n",
        "O modelo de classificação visa determinar se determinado agente 'X' se enquandra em um de duas caracteristicas que são esperadas com base na hipotése determinada pelo analista. Conforme informado na introdução deste notebook os dados que serão analisados nesta etapa são referentes a base 'Bank Marketing' disponível no UCI. A analise será guiada pela seguinte hipotese: \"Um novo cliente da instuição bancária irá realizar um deposito a termo 'sim' ou 'não'?\"\n",
        "\n",
        "Como a variável resposta pode ser resumida em duas varíaveis categoricas de 'sim' para os clientes que irão realizar o deposito a termo e 'não' para os que não utilizaram desta modalidade foi utilizada as técnicas de classificação das varíaveis de entrada buscando comprrender quais carecteristicas são comuns ao clientes que adquiriram cada uma destas etapas.\n",
        "\n",
        "Conforme será demonstrado no decorrer do script foi necessário realizar a preparação dos dados para que fosse possível realizar a modelagem, uma vez que o dataset possíu dados categoricos e númericos. Para os dados categoricos ainda foi necessário criar dois tipos de encoding para os atribuitos, já que algumas colunas possuíam mais de uma tipificação para os clientes enquanto outras são determinadas por apenas 'sim' e 'não'.\n",
        "\n",
        "Ademais será realizado antes da modelagem o processo de criação de uma *base line* com o objetivo de entender quais modelos conseguem gerar uma melhor classificação dos dados. Por fim será utilizado o metódo de *feature selection* para selecionar os melhores atributos para o modelo excluindo os dados redundantes com o objetivo de tornar o modelo mais acurado.\n",
        "\n"
      ]
    },
    {
      "cell_type": "markdown",
      "metadata": {
        "id": "UN8ic8OqFLgB"
      },
      "source": [
        "## 2.1 - Analise preliminar dos dados"
      ]
    },
    {
      "cell_type": "markdown",
      "metadata": {
        "id": "KLnp7XxaFP8R"
      },
      "source": [
        "### 2.1.1 - Analise descritiva"
      ]
    },
    {
      "cell_type": "code",
      "execution_count": null,
      "metadata": {
        "colab": {
          "base_uri": "https://localhost:8080/",
          "height": 270
        },
        "id": "XJBRaOA2FPLW",
        "outputId": "e31ee478-2f29-4ebb-8df9-5a704d6f0f34"
      },
      "outputs": [
        {
          "output_type": "execute_result",
          "data": {
            "text/plain": [
              "   age           job  marital  education default  balance housing loan  \\\n",
              "0   58    management  married   tertiary      no     2143     yes   no   \n",
              "1   44    technician   single  secondary      no       29     yes   no   \n",
              "2   33  entrepreneur  married  secondary      no        2     yes  yes   \n",
              "3   47   blue-collar  married    unknown      no     1506     yes   no   \n",
              "4   33       unknown   single    unknown      no        1      no   no   \n",
              "\n",
              "   contact  day month  duration  campaign  pdays  previous poutcome   y  \n",
              "0  unknown    5   may       261         1     -1         0  unknown  no  \n",
              "1  unknown    5   may       151         1     -1         0  unknown  no  \n",
              "2  unknown    5   may        76         1     -1         0  unknown  no  \n",
              "3  unknown    5   may        92         1     -1         0  unknown  no  \n",
              "4  unknown    5   may       198         1     -1         0  unknown  no  "
            ],
            "text/html": [
              "\n",
              "\n",
              "  <div id=\"df-12b2bfce-fe07-4e0f-a932-2e487a3c9d88\">\n",
              "    <div class=\"colab-df-container\">\n",
              "      <div>\n",
              "<style scoped>\n",
              "    .dataframe tbody tr th:only-of-type {\n",
              "        vertical-align: middle;\n",
              "    }\n",
              "\n",
              "    .dataframe tbody tr th {\n",
              "        vertical-align: top;\n",
              "    }\n",
              "\n",
              "    .dataframe thead th {\n",
              "        text-align: right;\n",
              "    }\n",
              "</style>\n",
              "<table border=\"1\" class=\"dataframe\">\n",
              "  <thead>\n",
              "    <tr style=\"text-align: right;\">\n",
              "      <th></th>\n",
              "      <th>age</th>\n",
              "      <th>job</th>\n",
              "      <th>marital</th>\n",
              "      <th>education</th>\n",
              "      <th>default</th>\n",
              "      <th>balance</th>\n",
              "      <th>housing</th>\n",
              "      <th>loan</th>\n",
              "      <th>contact</th>\n",
              "      <th>day</th>\n",
              "      <th>month</th>\n",
              "      <th>duration</th>\n",
              "      <th>campaign</th>\n",
              "      <th>pdays</th>\n",
              "      <th>previous</th>\n",
              "      <th>poutcome</th>\n",
              "      <th>y</th>\n",
              "    </tr>\n",
              "  </thead>\n",
              "  <tbody>\n",
              "    <tr>\n",
              "      <th>0</th>\n",
              "      <td>58</td>\n",
              "      <td>management</td>\n",
              "      <td>married</td>\n",
              "      <td>tertiary</td>\n",
              "      <td>no</td>\n",
              "      <td>2143</td>\n",
              "      <td>yes</td>\n",
              "      <td>no</td>\n",
              "      <td>unknown</td>\n",
              "      <td>5</td>\n",
              "      <td>may</td>\n",
              "      <td>261</td>\n",
              "      <td>1</td>\n",
              "      <td>-1</td>\n",
              "      <td>0</td>\n",
              "      <td>unknown</td>\n",
              "      <td>no</td>\n",
              "    </tr>\n",
              "    <tr>\n",
              "      <th>1</th>\n",
              "      <td>44</td>\n",
              "      <td>technician</td>\n",
              "      <td>single</td>\n",
              "      <td>secondary</td>\n",
              "      <td>no</td>\n",
              "      <td>29</td>\n",
              "      <td>yes</td>\n",
              "      <td>no</td>\n",
              "      <td>unknown</td>\n",
              "      <td>5</td>\n",
              "      <td>may</td>\n",
              "      <td>151</td>\n",
              "      <td>1</td>\n",
              "      <td>-1</td>\n",
              "      <td>0</td>\n",
              "      <td>unknown</td>\n",
              "      <td>no</td>\n",
              "    </tr>\n",
              "    <tr>\n",
              "      <th>2</th>\n",
              "      <td>33</td>\n",
              "      <td>entrepreneur</td>\n",
              "      <td>married</td>\n",
              "      <td>secondary</td>\n",
              "      <td>no</td>\n",
              "      <td>2</td>\n",
              "      <td>yes</td>\n",
              "      <td>yes</td>\n",
              "      <td>unknown</td>\n",
              "      <td>5</td>\n",
              "      <td>may</td>\n",
              "      <td>76</td>\n",
              "      <td>1</td>\n",
              "      <td>-1</td>\n",
              "      <td>0</td>\n",
              "      <td>unknown</td>\n",
              "      <td>no</td>\n",
              "    </tr>\n",
              "    <tr>\n",
              "      <th>3</th>\n",
              "      <td>47</td>\n",
              "      <td>blue-collar</td>\n",
              "      <td>married</td>\n",
              "      <td>unknown</td>\n",
              "      <td>no</td>\n",
              "      <td>1506</td>\n",
              "      <td>yes</td>\n",
              "      <td>no</td>\n",
              "      <td>unknown</td>\n",
              "      <td>5</td>\n",
              "      <td>may</td>\n",
              "      <td>92</td>\n",
              "      <td>1</td>\n",
              "      <td>-1</td>\n",
              "      <td>0</td>\n",
              "      <td>unknown</td>\n",
              "      <td>no</td>\n",
              "    </tr>\n",
              "    <tr>\n",
              "      <th>4</th>\n",
              "      <td>33</td>\n",
              "      <td>unknown</td>\n",
              "      <td>single</td>\n",
              "      <td>unknown</td>\n",
              "      <td>no</td>\n",
              "      <td>1</td>\n",
              "      <td>no</td>\n",
              "      <td>no</td>\n",
              "      <td>unknown</td>\n",
              "      <td>5</td>\n",
              "      <td>may</td>\n",
              "      <td>198</td>\n",
              "      <td>1</td>\n",
              "      <td>-1</td>\n",
              "      <td>0</td>\n",
              "      <td>unknown</td>\n",
              "      <td>no</td>\n",
              "    </tr>\n",
              "  </tbody>\n",
              "</table>\n",
              "</div>\n",
              "      <button class=\"colab-df-convert\" onclick=\"convertToInteractive('df-12b2bfce-fe07-4e0f-a932-2e487a3c9d88')\"\n",
              "              title=\"Convert this dataframe to an interactive table.\"\n",
              "              style=\"display:none;\">\n",
              "\n",
              "  <svg xmlns=\"http://www.w3.org/2000/svg\" height=\"24px\"viewBox=\"0 0 24 24\"\n",
              "       width=\"24px\">\n",
              "    <path d=\"M0 0h24v24H0V0z\" fill=\"none\"/>\n",
              "    <path d=\"M18.56 5.44l.94 2.06.94-2.06 2.06-.94-2.06-.94-.94-2.06-.94 2.06-2.06.94zm-11 1L8.5 8.5l.94-2.06 2.06-.94-2.06-.94L8.5 2.5l-.94 2.06-2.06.94zm10 10l.94 2.06.94-2.06 2.06-.94-2.06-.94-.94-2.06-.94 2.06-2.06.94z\"/><path d=\"M17.41 7.96l-1.37-1.37c-.4-.4-.92-.59-1.43-.59-.52 0-1.04.2-1.43.59L10.3 9.45l-7.72 7.72c-.78.78-.78 2.05 0 2.83L4 21.41c.39.39.9.59 1.41.59.51 0 1.02-.2 1.41-.59l7.78-7.78 2.81-2.81c.8-.78.8-2.07 0-2.86zM5.41 20L4 18.59l7.72-7.72 1.47 1.35L5.41 20z\"/>\n",
              "  </svg>\n",
              "      </button>\n",
              "\n",
              "\n",
              "\n",
              "    <div id=\"df-7a6ce7c3-3b60-433e-9cba-3e1105d570f9\">\n",
              "      <button class=\"colab-df-quickchart\" onclick=\"quickchart('df-7a6ce7c3-3b60-433e-9cba-3e1105d570f9')\"\n",
              "              title=\"Suggest charts.\"\n",
              "              style=\"display:none;\">\n",
              "\n",
              "<svg xmlns=\"http://www.w3.org/2000/svg\" height=\"24px\"viewBox=\"0 0 24 24\"\n",
              "     width=\"24px\">\n",
              "    <g>\n",
              "        <path d=\"M19 3H5c-1.1 0-2 .9-2 2v14c0 1.1.9 2 2 2h14c1.1 0 2-.9 2-2V5c0-1.1-.9-2-2-2zM9 17H7v-7h2v7zm4 0h-2V7h2v10zm4 0h-2v-4h2v4z\"/>\n",
              "    </g>\n",
              "</svg>\n",
              "      </button>\n",
              "    </div>\n",
              "\n",
              "<style>\n",
              "  .colab-df-quickchart {\n",
              "    background-color: #E8F0FE;\n",
              "    border: none;\n",
              "    border-radius: 50%;\n",
              "    cursor: pointer;\n",
              "    display: none;\n",
              "    fill: #1967D2;\n",
              "    height: 32px;\n",
              "    padding: 0 0 0 0;\n",
              "    width: 32px;\n",
              "  }\n",
              "\n",
              "  .colab-df-quickchart:hover {\n",
              "    background-color: #E2EBFA;\n",
              "    box-shadow: 0px 1px 2px rgba(60, 64, 67, 0.3), 0px 1px 3px 1px rgba(60, 64, 67, 0.15);\n",
              "    fill: #174EA6;\n",
              "  }\n",
              "\n",
              "  [theme=dark] .colab-df-quickchart {\n",
              "    background-color: #3B4455;\n",
              "    fill: #D2E3FC;\n",
              "  }\n",
              "\n",
              "  [theme=dark] .colab-df-quickchart:hover {\n",
              "    background-color: #434B5C;\n",
              "    box-shadow: 0px 1px 3px 1px rgba(0, 0, 0, 0.15);\n",
              "    filter: drop-shadow(0px 1px 2px rgba(0, 0, 0, 0.3));\n",
              "    fill: #FFFFFF;\n",
              "  }\n",
              "</style>\n",
              "\n",
              "    <script>\n",
              "      async function quickchart(key) {\n",
              "        const containerElement = document.querySelector('#' + key);\n",
              "        const charts = await google.colab.kernel.invokeFunction(\n",
              "            'suggestCharts', [key], {});\n",
              "      }\n",
              "    </script>\n",
              "\n",
              "      <script>\n",
              "\n",
              "function displayQuickchartButton(domScope) {\n",
              "  let quickchartButtonEl =\n",
              "    domScope.querySelector('#df-7a6ce7c3-3b60-433e-9cba-3e1105d570f9 button.colab-df-quickchart');\n",
              "  quickchartButtonEl.style.display =\n",
              "    google.colab.kernel.accessAllowed ? 'block' : 'none';\n",
              "}\n",
              "\n",
              "        displayQuickchartButton(document);\n",
              "      </script>\n",
              "      <style>\n",
              "    .colab-df-container {\n",
              "      display:flex;\n",
              "      flex-wrap:wrap;\n",
              "      gap: 12px;\n",
              "    }\n",
              "\n",
              "    .colab-df-convert {\n",
              "      background-color: #E8F0FE;\n",
              "      border: none;\n",
              "      border-radius: 50%;\n",
              "      cursor: pointer;\n",
              "      display: none;\n",
              "      fill: #1967D2;\n",
              "      height: 32px;\n",
              "      padding: 0 0 0 0;\n",
              "      width: 32px;\n",
              "    }\n",
              "\n",
              "    .colab-df-convert:hover {\n",
              "      background-color: #E2EBFA;\n",
              "      box-shadow: 0px 1px 2px rgba(60, 64, 67, 0.3), 0px 1px 3px 1px rgba(60, 64, 67, 0.15);\n",
              "      fill: #174EA6;\n",
              "    }\n",
              "\n",
              "    [theme=dark] .colab-df-convert {\n",
              "      background-color: #3B4455;\n",
              "      fill: #D2E3FC;\n",
              "    }\n",
              "\n",
              "    [theme=dark] .colab-df-convert:hover {\n",
              "      background-color: #434B5C;\n",
              "      box-shadow: 0px 1px 3px 1px rgba(0, 0, 0, 0.15);\n",
              "      filter: drop-shadow(0px 1px 2px rgba(0, 0, 0, 0.3));\n",
              "      fill: #FFFFFF;\n",
              "    }\n",
              "  </style>\n",
              "\n",
              "      <script>\n",
              "        const buttonEl =\n",
              "          document.querySelector('#df-12b2bfce-fe07-4e0f-a932-2e487a3c9d88 button.colab-df-convert');\n",
              "        buttonEl.style.display =\n",
              "          google.colab.kernel.accessAllowed ? 'block' : 'none';\n",
              "\n",
              "        async function convertToInteractive(key) {\n",
              "          const element = document.querySelector('#df-12b2bfce-fe07-4e0f-a932-2e487a3c9d88');\n",
              "          const dataTable =\n",
              "            await google.colab.kernel.invokeFunction('convertToInteractive',\n",
              "                                                     [key], {});\n",
              "          if (!dataTable) return;\n",
              "\n",
              "          const docLinkHtml = 'Like what you see? Visit the ' +\n",
              "            '<a target=\"_blank\" href=https://colab.research.google.com/notebooks/data_table.ipynb>data table notebook</a>'\n",
              "            + ' to learn more about interactive tables.';\n",
              "          element.innerHTML = '';\n",
              "          dataTable['output_type'] = 'display_data';\n",
              "          await google.colab.output.renderOutput(dataTable, element);\n",
              "          const docLink = document.createElement('div');\n",
              "          docLink.innerHTML = docLinkHtml;\n",
              "          element.appendChild(docLink);\n",
              "        }\n",
              "      </script>\n",
              "    </div>\n",
              "  </div>\n"
            ]
          },
          "metadata": {},
          "execution_count": 5
        }
      ],
      "source": [
        "bank.head()"
      ]
    },
    {
      "cell_type": "code",
      "execution_count": null,
      "metadata": {
        "colab": {
          "base_uri": "https://localhost:8080/",
          "height": 270
        },
        "id": "7mTg2l0fFgzd",
        "outputId": "647a5e67-b59a-4903-98fe-a95e506acb04"
      },
      "outputs": [
        {
          "output_type": "execute_result",
          "data": {
            "text/plain": [
              "       age           job   marital  education default  balance housing loan  \\\n",
              "45206   51    technician   married   tertiary      no      825      no   no   \n",
              "45207   71       retired  divorced    primary      no     1729      no   no   \n",
              "45208   72       retired   married  secondary      no     5715      no   no   \n",
              "45209   57   blue-collar   married  secondary      no      668      no   no   \n",
              "45210   37  entrepreneur   married  secondary      no     2971      no   no   \n",
              "\n",
              "         contact  day month  duration  campaign  pdays  previous poutcome    y  \n",
              "45206   cellular   17   nov       977         3     -1         0  unknown  yes  \n",
              "45207   cellular   17   nov       456         2     -1         0  unknown  yes  \n",
              "45208   cellular   17   nov      1127         5    184         3  success  yes  \n",
              "45209  telephone   17   nov       508         4     -1         0  unknown   no  \n",
              "45210   cellular   17   nov       361         2    188        11    other   no  "
            ],
            "text/html": [
              "\n",
              "\n",
              "  <div id=\"df-b85ab6ec-2e9d-4a7d-b3e8-a57530ccd776\">\n",
              "    <div class=\"colab-df-container\">\n",
              "      <div>\n",
              "<style scoped>\n",
              "    .dataframe tbody tr th:only-of-type {\n",
              "        vertical-align: middle;\n",
              "    }\n",
              "\n",
              "    .dataframe tbody tr th {\n",
              "        vertical-align: top;\n",
              "    }\n",
              "\n",
              "    .dataframe thead th {\n",
              "        text-align: right;\n",
              "    }\n",
              "</style>\n",
              "<table border=\"1\" class=\"dataframe\">\n",
              "  <thead>\n",
              "    <tr style=\"text-align: right;\">\n",
              "      <th></th>\n",
              "      <th>age</th>\n",
              "      <th>job</th>\n",
              "      <th>marital</th>\n",
              "      <th>education</th>\n",
              "      <th>default</th>\n",
              "      <th>balance</th>\n",
              "      <th>housing</th>\n",
              "      <th>loan</th>\n",
              "      <th>contact</th>\n",
              "      <th>day</th>\n",
              "      <th>month</th>\n",
              "      <th>duration</th>\n",
              "      <th>campaign</th>\n",
              "      <th>pdays</th>\n",
              "      <th>previous</th>\n",
              "      <th>poutcome</th>\n",
              "      <th>y</th>\n",
              "    </tr>\n",
              "  </thead>\n",
              "  <tbody>\n",
              "    <tr>\n",
              "      <th>45206</th>\n",
              "      <td>51</td>\n",
              "      <td>technician</td>\n",
              "      <td>married</td>\n",
              "      <td>tertiary</td>\n",
              "      <td>no</td>\n",
              "      <td>825</td>\n",
              "      <td>no</td>\n",
              "      <td>no</td>\n",
              "      <td>cellular</td>\n",
              "      <td>17</td>\n",
              "      <td>nov</td>\n",
              "      <td>977</td>\n",
              "      <td>3</td>\n",
              "      <td>-1</td>\n",
              "      <td>0</td>\n",
              "      <td>unknown</td>\n",
              "      <td>yes</td>\n",
              "    </tr>\n",
              "    <tr>\n",
              "      <th>45207</th>\n",
              "      <td>71</td>\n",
              "      <td>retired</td>\n",
              "      <td>divorced</td>\n",
              "      <td>primary</td>\n",
              "      <td>no</td>\n",
              "      <td>1729</td>\n",
              "      <td>no</td>\n",
              "      <td>no</td>\n",
              "      <td>cellular</td>\n",
              "      <td>17</td>\n",
              "      <td>nov</td>\n",
              "      <td>456</td>\n",
              "      <td>2</td>\n",
              "      <td>-1</td>\n",
              "      <td>0</td>\n",
              "      <td>unknown</td>\n",
              "      <td>yes</td>\n",
              "    </tr>\n",
              "    <tr>\n",
              "      <th>45208</th>\n",
              "      <td>72</td>\n",
              "      <td>retired</td>\n",
              "      <td>married</td>\n",
              "      <td>secondary</td>\n",
              "      <td>no</td>\n",
              "      <td>5715</td>\n",
              "      <td>no</td>\n",
              "      <td>no</td>\n",
              "      <td>cellular</td>\n",
              "      <td>17</td>\n",
              "      <td>nov</td>\n",
              "      <td>1127</td>\n",
              "      <td>5</td>\n",
              "      <td>184</td>\n",
              "      <td>3</td>\n",
              "      <td>success</td>\n",
              "      <td>yes</td>\n",
              "    </tr>\n",
              "    <tr>\n",
              "      <th>45209</th>\n",
              "      <td>57</td>\n",
              "      <td>blue-collar</td>\n",
              "      <td>married</td>\n",
              "      <td>secondary</td>\n",
              "      <td>no</td>\n",
              "      <td>668</td>\n",
              "      <td>no</td>\n",
              "      <td>no</td>\n",
              "      <td>telephone</td>\n",
              "      <td>17</td>\n",
              "      <td>nov</td>\n",
              "      <td>508</td>\n",
              "      <td>4</td>\n",
              "      <td>-1</td>\n",
              "      <td>0</td>\n",
              "      <td>unknown</td>\n",
              "      <td>no</td>\n",
              "    </tr>\n",
              "    <tr>\n",
              "      <th>45210</th>\n",
              "      <td>37</td>\n",
              "      <td>entrepreneur</td>\n",
              "      <td>married</td>\n",
              "      <td>secondary</td>\n",
              "      <td>no</td>\n",
              "      <td>2971</td>\n",
              "      <td>no</td>\n",
              "      <td>no</td>\n",
              "      <td>cellular</td>\n",
              "      <td>17</td>\n",
              "      <td>nov</td>\n",
              "      <td>361</td>\n",
              "      <td>2</td>\n",
              "      <td>188</td>\n",
              "      <td>11</td>\n",
              "      <td>other</td>\n",
              "      <td>no</td>\n",
              "    </tr>\n",
              "  </tbody>\n",
              "</table>\n",
              "</div>\n",
              "      <button class=\"colab-df-convert\" onclick=\"convertToInteractive('df-b85ab6ec-2e9d-4a7d-b3e8-a57530ccd776')\"\n",
              "              title=\"Convert this dataframe to an interactive table.\"\n",
              "              style=\"display:none;\">\n",
              "\n",
              "  <svg xmlns=\"http://www.w3.org/2000/svg\" height=\"24px\"viewBox=\"0 0 24 24\"\n",
              "       width=\"24px\">\n",
              "    <path d=\"M0 0h24v24H0V0z\" fill=\"none\"/>\n",
              "    <path d=\"M18.56 5.44l.94 2.06.94-2.06 2.06-.94-2.06-.94-.94-2.06-.94 2.06-2.06.94zm-11 1L8.5 8.5l.94-2.06 2.06-.94-2.06-.94L8.5 2.5l-.94 2.06-2.06.94zm10 10l.94 2.06.94-2.06 2.06-.94-2.06-.94-.94-2.06-.94 2.06-2.06.94z\"/><path d=\"M17.41 7.96l-1.37-1.37c-.4-.4-.92-.59-1.43-.59-.52 0-1.04.2-1.43.59L10.3 9.45l-7.72 7.72c-.78.78-.78 2.05 0 2.83L4 21.41c.39.39.9.59 1.41.59.51 0 1.02-.2 1.41-.59l7.78-7.78 2.81-2.81c.8-.78.8-2.07 0-2.86zM5.41 20L4 18.59l7.72-7.72 1.47 1.35L5.41 20z\"/>\n",
              "  </svg>\n",
              "      </button>\n",
              "\n",
              "\n",
              "\n",
              "    <div id=\"df-c3301887-3574-4366-b522-aa7efb99144c\">\n",
              "      <button class=\"colab-df-quickchart\" onclick=\"quickchart('df-c3301887-3574-4366-b522-aa7efb99144c')\"\n",
              "              title=\"Suggest charts.\"\n",
              "              style=\"display:none;\">\n",
              "\n",
              "<svg xmlns=\"http://www.w3.org/2000/svg\" height=\"24px\"viewBox=\"0 0 24 24\"\n",
              "     width=\"24px\">\n",
              "    <g>\n",
              "        <path d=\"M19 3H5c-1.1 0-2 .9-2 2v14c0 1.1.9 2 2 2h14c1.1 0 2-.9 2-2V5c0-1.1-.9-2-2-2zM9 17H7v-7h2v7zm4 0h-2V7h2v10zm4 0h-2v-4h2v4z\"/>\n",
              "    </g>\n",
              "</svg>\n",
              "      </button>\n",
              "    </div>\n",
              "\n",
              "<style>\n",
              "  .colab-df-quickchart {\n",
              "    background-color: #E8F0FE;\n",
              "    border: none;\n",
              "    border-radius: 50%;\n",
              "    cursor: pointer;\n",
              "    display: none;\n",
              "    fill: #1967D2;\n",
              "    height: 32px;\n",
              "    padding: 0 0 0 0;\n",
              "    width: 32px;\n",
              "  }\n",
              "\n",
              "  .colab-df-quickchart:hover {\n",
              "    background-color: #E2EBFA;\n",
              "    box-shadow: 0px 1px 2px rgba(60, 64, 67, 0.3), 0px 1px 3px 1px rgba(60, 64, 67, 0.15);\n",
              "    fill: #174EA6;\n",
              "  }\n",
              "\n",
              "  [theme=dark] .colab-df-quickchart {\n",
              "    background-color: #3B4455;\n",
              "    fill: #D2E3FC;\n",
              "  }\n",
              "\n",
              "  [theme=dark] .colab-df-quickchart:hover {\n",
              "    background-color: #434B5C;\n",
              "    box-shadow: 0px 1px 3px 1px rgba(0, 0, 0, 0.15);\n",
              "    filter: drop-shadow(0px 1px 2px rgba(0, 0, 0, 0.3));\n",
              "    fill: #FFFFFF;\n",
              "  }\n",
              "</style>\n",
              "\n",
              "    <script>\n",
              "      async function quickchart(key) {\n",
              "        const containerElement = document.querySelector('#' + key);\n",
              "        const charts = await google.colab.kernel.invokeFunction(\n",
              "            'suggestCharts', [key], {});\n",
              "      }\n",
              "    </script>\n",
              "\n",
              "      <script>\n",
              "\n",
              "function displayQuickchartButton(domScope) {\n",
              "  let quickchartButtonEl =\n",
              "    domScope.querySelector('#df-c3301887-3574-4366-b522-aa7efb99144c button.colab-df-quickchart');\n",
              "  quickchartButtonEl.style.display =\n",
              "    google.colab.kernel.accessAllowed ? 'block' : 'none';\n",
              "}\n",
              "\n",
              "        displayQuickchartButton(document);\n",
              "      </script>\n",
              "      <style>\n",
              "    .colab-df-container {\n",
              "      display:flex;\n",
              "      flex-wrap:wrap;\n",
              "      gap: 12px;\n",
              "    }\n",
              "\n",
              "    .colab-df-convert {\n",
              "      background-color: #E8F0FE;\n",
              "      border: none;\n",
              "      border-radius: 50%;\n",
              "      cursor: pointer;\n",
              "      display: none;\n",
              "      fill: #1967D2;\n",
              "      height: 32px;\n",
              "      padding: 0 0 0 0;\n",
              "      width: 32px;\n",
              "    }\n",
              "\n",
              "    .colab-df-convert:hover {\n",
              "      background-color: #E2EBFA;\n",
              "      box-shadow: 0px 1px 2px rgba(60, 64, 67, 0.3), 0px 1px 3px 1px rgba(60, 64, 67, 0.15);\n",
              "      fill: #174EA6;\n",
              "    }\n",
              "\n",
              "    [theme=dark] .colab-df-convert {\n",
              "      background-color: #3B4455;\n",
              "      fill: #D2E3FC;\n",
              "    }\n",
              "\n",
              "    [theme=dark] .colab-df-convert:hover {\n",
              "      background-color: #434B5C;\n",
              "      box-shadow: 0px 1px 3px 1px rgba(0, 0, 0, 0.15);\n",
              "      filter: drop-shadow(0px 1px 2px rgba(0, 0, 0, 0.3));\n",
              "      fill: #FFFFFF;\n",
              "    }\n",
              "  </style>\n",
              "\n",
              "      <script>\n",
              "        const buttonEl =\n",
              "          document.querySelector('#df-b85ab6ec-2e9d-4a7d-b3e8-a57530ccd776 button.colab-df-convert');\n",
              "        buttonEl.style.display =\n",
              "          google.colab.kernel.accessAllowed ? 'block' : 'none';\n",
              "\n",
              "        async function convertToInteractive(key) {\n",
              "          const element = document.querySelector('#df-b85ab6ec-2e9d-4a7d-b3e8-a57530ccd776');\n",
              "          const dataTable =\n",
              "            await google.colab.kernel.invokeFunction('convertToInteractive',\n",
              "                                                     [key], {});\n",
              "          if (!dataTable) return;\n",
              "\n",
              "          const docLinkHtml = 'Like what you see? Visit the ' +\n",
              "            '<a target=\"_blank\" href=https://colab.research.google.com/notebooks/data_table.ipynb>data table notebook</a>'\n",
              "            + ' to learn more about interactive tables.';\n",
              "          element.innerHTML = '';\n",
              "          dataTable['output_type'] = 'display_data';\n",
              "          await google.colab.output.renderOutput(dataTable, element);\n",
              "          const docLink = document.createElement('div');\n",
              "          docLink.innerHTML = docLinkHtml;\n",
              "          element.appendChild(docLink);\n",
              "        }\n",
              "      </script>\n",
              "    </div>\n",
              "  </div>\n"
            ]
          },
          "metadata": {},
          "execution_count": 6
        }
      ],
      "source": [
        "bank.tail()"
      ]
    },
    {
      "cell_type": "markdown",
      "metadata": {
        "id": "RxkMzDXHFkhe"
      },
      "source": [
        "Conforme é possível verificar na documentação da base e após plotar as cinco primeiras e cinco últimas linhas nota-se que é necessário alterar os valores para o tipo númerio com '1' sendo 'yes' e '0' 'no'. Será necessário ajustar as colunas de entrada para que essas tenham uma representação númerica ao invés de categorica, para isso será utilizado o metodo *dummy enconding*, já as variáveis com mais de um retorno categorico será utilizado o metódo de *one-hot-encoding*. Contudo antes da etapa de ajustes do dataset para a modelagem é necessário verificar se existem valores nulos e a analise de correlação dos dados.\n"
      ]
    },
    {
      "cell_type": "code",
      "execution_count": null,
      "metadata": {
        "colab": {
          "base_uri": "https://localhost:8080/"
        },
        "id": "m1WndjPbJGCL",
        "outputId": "81840056-a0b0-47ee-8751-aa995c5477f4"
      },
      "outputs": [
        {
          "output_type": "stream",
          "name": "stdout",
          "text": [
            "<class 'pandas.core.frame.DataFrame'>\n",
            "RangeIndex: 45211 entries, 0 to 45210\n",
            "Data columns (total 17 columns):\n",
            " #   Column     Non-Null Count  Dtype \n",
            "---  ------     --------------  ----- \n",
            " 0   age        45211 non-null  int64 \n",
            " 1   job        45211 non-null  object\n",
            " 2   marital    45211 non-null  object\n",
            " 3   education  45211 non-null  object\n",
            " 4   default    45211 non-null  object\n",
            " 5   balance    45211 non-null  int64 \n",
            " 6   housing    45211 non-null  object\n",
            " 7   loan       45211 non-null  object\n",
            " 8   contact    45211 non-null  object\n",
            " 9   day        45211 non-null  int64 \n",
            " 10  month      45211 non-null  object\n",
            " 11  duration   45211 non-null  int64 \n",
            " 12  campaign   45211 non-null  int64 \n",
            " 13  pdays      45211 non-null  int64 \n",
            " 14  previous   45211 non-null  int64 \n",
            " 15  poutcome   45211 non-null  object\n",
            " 16  y          45211 non-null  object\n",
            "dtypes: int64(7), object(10)\n",
            "memory usage: 5.9+ MB\n"
          ]
        }
      ],
      "source": [
        "bank.info()"
      ]
    },
    {
      "cell_type": "markdown",
      "metadata": {
        "id": "e4HrJr7iJqBE"
      },
      "source": [
        "Com base na função 'info' nota-se que não existe valores nulos no data frame, isso implica na não necessidade de se realizar os tratamentos para retirar os missings (valores nulos) do data frame. A função describe permite analizar a estatísticas descritivas, como quantidade, média, valor máximo e minímo, entre outros das varíveis númericas."
      ]
    },
    {
      "cell_type": "code",
      "execution_count": null,
      "metadata": {
        "colab": {
          "base_uri": "https://localhost:8080/",
          "height": 300
        },
        "id": "cZUbkRyKKOCr",
        "outputId": "b5129f4b-feea-4795-bafb-e594893425c5"
      },
      "outputs": [
        {
          "output_type": "execute_result",
          "data": {
            "text/plain": [
              "                age        balance           day      duration      campaign  \\\n",
              "count  45211.000000   45211.000000  45211.000000  45211.000000  45211.000000   \n",
              "mean      40.936210    1362.272058     15.806419    258.163080      2.763841   \n",
              "std       10.618762    3044.765829      8.322476    257.527812      3.098021   \n",
              "min       18.000000   -8019.000000      1.000000      0.000000      1.000000   \n",
              "25%       33.000000      72.000000      8.000000    103.000000      1.000000   \n",
              "50%       39.000000     448.000000     16.000000    180.000000      2.000000   \n",
              "75%       48.000000    1428.000000     21.000000    319.000000      3.000000   \n",
              "max       95.000000  102127.000000     31.000000   4918.000000     63.000000   \n",
              "\n",
              "              pdays      previous  \n",
              "count  45211.000000  45211.000000  \n",
              "mean      40.197828      0.580323  \n",
              "std      100.128746      2.303441  \n",
              "min       -1.000000      0.000000  \n",
              "25%       -1.000000      0.000000  \n",
              "50%       -1.000000      0.000000  \n",
              "75%       -1.000000      0.000000  \n",
              "max      871.000000    275.000000  "
            ],
            "text/html": [
              "\n",
              "\n",
              "  <div id=\"df-65bb84a4-25ce-4277-a0f8-b952f9b7f23b\">\n",
              "    <div class=\"colab-df-container\">\n",
              "      <div>\n",
              "<style scoped>\n",
              "    .dataframe tbody tr th:only-of-type {\n",
              "        vertical-align: middle;\n",
              "    }\n",
              "\n",
              "    .dataframe tbody tr th {\n",
              "        vertical-align: top;\n",
              "    }\n",
              "\n",
              "    .dataframe thead th {\n",
              "        text-align: right;\n",
              "    }\n",
              "</style>\n",
              "<table border=\"1\" class=\"dataframe\">\n",
              "  <thead>\n",
              "    <tr style=\"text-align: right;\">\n",
              "      <th></th>\n",
              "      <th>age</th>\n",
              "      <th>balance</th>\n",
              "      <th>day</th>\n",
              "      <th>duration</th>\n",
              "      <th>campaign</th>\n",
              "      <th>pdays</th>\n",
              "      <th>previous</th>\n",
              "    </tr>\n",
              "  </thead>\n",
              "  <tbody>\n",
              "    <tr>\n",
              "      <th>count</th>\n",
              "      <td>45211.000000</td>\n",
              "      <td>45211.000000</td>\n",
              "      <td>45211.000000</td>\n",
              "      <td>45211.000000</td>\n",
              "      <td>45211.000000</td>\n",
              "      <td>45211.000000</td>\n",
              "      <td>45211.000000</td>\n",
              "    </tr>\n",
              "    <tr>\n",
              "      <th>mean</th>\n",
              "      <td>40.936210</td>\n",
              "      <td>1362.272058</td>\n",
              "      <td>15.806419</td>\n",
              "      <td>258.163080</td>\n",
              "      <td>2.763841</td>\n",
              "      <td>40.197828</td>\n",
              "      <td>0.580323</td>\n",
              "    </tr>\n",
              "    <tr>\n",
              "      <th>std</th>\n",
              "      <td>10.618762</td>\n",
              "      <td>3044.765829</td>\n",
              "      <td>8.322476</td>\n",
              "      <td>257.527812</td>\n",
              "      <td>3.098021</td>\n",
              "      <td>100.128746</td>\n",
              "      <td>2.303441</td>\n",
              "    </tr>\n",
              "    <tr>\n",
              "      <th>min</th>\n",
              "      <td>18.000000</td>\n",
              "      <td>-8019.000000</td>\n",
              "      <td>1.000000</td>\n",
              "      <td>0.000000</td>\n",
              "      <td>1.000000</td>\n",
              "      <td>-1.000000</td>\n",
              "      <td>0.000000</td>\n",
              "    </tr>\n",
              "    <tr>\n",
              "      <th>25%</th>\n",
              "      <td>33.000000</td>\n",
              "      <td>72.000000</td>\n",
              "      <td>8.000000</td>\n",
              "      <td>103.000000</td>\n",
              "      <td>1.000000</td>\n",
              "      <td>-1.000000</td>\n",
              "      <td>0.000000</td>\n",
              "    </tr>\n",
              "    <tr>\n",
              "      <th>50%</th>\n",
              "      <td>39.000000</td>\n",
              "      <td>448.000000</td>\n",
              "      <td>16.000000</td>\n",
              "      <td>180.000000</td>\n",
              "      <td>2.000000</td>\n",
              "      <td>-1.000000</td>\n",
              "      <td>0.000000</td>\n",
              "    </tr>\n",
              "    <tr>\n",
              "      <th>75%</th>\n",
              "      <td>48.000000</td>\n",
              "      <td>1428.000000</td>\n",
              "      <td>21.000000</td>\n",
              "      <td>319.000000</td>\n",
              "      <td>3.000000</td>\n",
              "      <td>-1.000000</td>\n",
              "      <td>0.000000</td>\n",
              "    </tr>\n",
              "    <tr>\n",
              "      <th>max</th>\n",
              "      <td>95.000000</td>\n",
              "      <td>102127.000000</td>\n",
              "      <td>31.000000</td>\n",
              "      <td>4918.000000</td>\n",
              "      <td>63.000000</td>\n",
              "      <td>871.000000</td>\n",
              "      <td>275.000000</td>\n",
              "    </tr>\n",
              "  </tbody>\n",
              "</table>\n",
              "</div>\n",
              "      <button class=\"colab-df-convert\" onclick=\"convertToInteractive('df-65bb84a4-25ce-4277-a0f8-b952f9b7f23b')\"\n",
              "              title=\"Convert this dataframe to an interactive table.\"\n",
              "              style=\"display:none;\">\n",
              "\n",
              "  <svg xmlns=\"http://www.w3.org/2000/svg\" height=\"24px\"viewBox=\"0 0 24 24\"\n",
              "       width=\"24px\">\n",
              "    <path d=\"M0 0h24v24H0V0z\" fill=\"none\"/>\n",
              "    <path d=\"M18.56 5.44l.94 2.06.94-2.06 2.06-.94-2.06-.94-.94-2.06-.94 2.06-2.06.94zm-11 1L8.5 8.5l.94-2.06 2.06-.94-2.06-.94L8.5 2.5l-.94 2.06-2.06.94zm10 10l.94 2.06.94-2.06 2.06-.94-2.06-.94-.94-2.06-.94 2.06-2.06.94z\"/><path d=\"M17.41 7.96l-1.37-1.37c-.4-.4-.92-.59-1.43-.59-.52 0-1.04.2-1.43.59L10.3 9.45l-7.72 7.72c-.78.78-.78 2.05 0 2.83L4 21.41c.39.39.9.59 1.41.59.51 0 1.02-.2 1.41-.59l7.78-7.78 2.81-2.81c.8-.78.8-2.07 0-2.86zM5.41 20L4 18.59l7.72-7.72 1.47 1.35L5.41 20z\"/>\n",
              "  </svg>\n",
              "      </button>\n",
              "\n",
              "\n",
              "\n",
              "    <div id=\"df-fecc0221-0733-4f7f-af3e-50aab0dd90ca\">\n",
              "      <button class=\"colab-df-quickchart\" onclick=\"quickchart('df-fecc0221-0733-4f7f-af3e-50aab0dd90ca')\"\n",
              "              title=\"Suggest charts.\"\n",
              "              style=\"display:none;\">\n",
              "\n",
              "<svg xmlns=\"http://www.w3.org/2000/svg\" height=\"24px\"viewBox=\"0 0 24 24\"\n",
              "     width=\"24px\">\n",
              "    <g>\n",
              "        <path d=\"M19 3H5c-1.1 0-2 .9-2 2v14c0 1.1.9 2 2 2h14c1.1 0 2-.9 2-2V5c0-1.1-.9-2-2-2zM9 17H7v-7h2v7zm4 0h-2V7h2v10zm4 0h-2v-4h2v4z\"/>\n",
              "    </g>\n",
              "</svg>\n",
              "      </button>\n",
              "    </div>\n",
              "\n",
              "<style>\n",
              "  .colab-df-quickchart {\n",
              "    background-color: #E8F0FE;\n",
              "    border: none;\n",
              "    border-radius: 50%;\n",
              "    cursor: pointer;\n",
              "    display: none;\n",
              "    fill: #1967D2;\n",
              "    height: 32px;\n",
              "    padding: 0 0 0 0;\n",
              "    width: 32px;\n",
              "  }\n",
              "\n",
              "  .colab-df-quickchart:hover {\n",
              "    background-color: #E2EBFA;\n",
              "    box-shadow: 0px 1px 2px rgba(60, 64, 67, 0.3), 0px 1px 3px 1px rgba(60, 64, 67, 0.15);\n",
              "    fill: #174EA6;\n",
              "  }\n",
              "\n",
              "  [theme=dark] .colab-df-quickchart {\n",
              "    background-color: #3B4455;\n",
              "    fill: #D2E3FC;\n",
              "  }\n",
              "\n",
              "  [theme=dark] .colab-df-quickchart:hover {\n",
              "    background-color: #434B5C;\n",
              "    box-shadow: 0px 1px 3px 1px rgba(0, 0, 0, 0.15);\n",
              "    filter: drop-shadow(0px 1px 2px rgba(0, 0, 0, 0.3));\n",
              "    fill: #FFFFFF;\n",
              "  }\n",
              "</style>\n",
              "\n",
              "    <script>\n",
              "      async function quickchart(key) {\n",
              "        const containerElement = document.querySelector('#' + key);\n",
              "        const charts = await google.colab.kernel.invokeFunction(\n",
              "            'suggestCharts', [key], {});\n",
              "      }\n",
              "    </script>\n",
              "\n",
              "      <script>\n",
              "\n",
              "function displayQuickchartButton(domScope) {\n",
              "  let quickchartButtonEl =\n",
              "    domScope.querySelector('#df-fecc0221-0733-4f7f-af3e-50aab0dd90ca button.colab-df-quickchart');\n",
              "  quickchartButtonEl.style.display =\n",
              "    google.colab.kernel.accessAllowed ? 'block' : 'none';\n",
              "}\n",
              "\n",
              "        displayQuickchartButton(document);\n",
              "      </script>\n",
              "      <style>\n",
              "    .colab-df-container {\n",
              "      display:flex;\n",
              "      flex-wrap:wrap;\n",
              "      gap: 12px;\n",
              "    }\n",
              "\n",
              "    .colab-df-convert {\n",
              "      background-color: #E8F0FE;\n",
              "      border: none;\n",
              "      border-radius: 50%;\n",
              "      cursor: pointer;\n",
              "      display: none;\n",
              "      fill: #1967D2;\n",
              "      height: 32px;\n",
              "      padding: 0 0 0 0;\n",
              "      width: 32px;\n",
              "    }\n",
              "\n",
              "    .colab-df-convert:hover {\n",
              "      background-color: #E2EBFA;\n",
              "      box-shadow: 0px 1px 2px rgba(60, 64, 67, 0.3), 0px 1px 3px 1px rgba(60, 64, 67, 0.15);\n",
              "      fill: #174EA6;\n",
              "    }\n",
              "\n",
              "    [theme=dark] .colab-df-convert {\n",
              "      background-color: #3B4455;\n",
              "      fill: #D2E3FC;\n",
              "    }\n",
              "\n",
              "    [theme=dark] .colab-df-convert:hover {\n",
              "      background-color: #434B5C;\n",
              "      box-shadow: 0px 1px 3px 1px rgba(0, 0, 0, 0.15);\n",
              "      filter: drop-shadow(0px 1px 2px rgba(0, 0, 0, 0.3));\n",
              "      fill: #FFFFFF;\n",
              "    }\n",
              "  </style>\n",
              "\n",
              "      <script>\n",
              "        const buttonEl =\n",
              "          document.querySelector('#df-65bb84a4-25ce-4277-a0f8-b952f9b7f23b button.colab-df-convert');\n",
              "        buttonEl.style.display =\n",
              "          google.colab.kernel.accessAllowed ? 'block' : 'none';\n",
              "\n",
              "        async function convertToInteractive(key) {\n",
              "          const element = document.querySelector('#df-65bb84a4-25ce-4277-a0f8-b952f9b7f23b');\n",
              "          const dataTable =\n",
              "            await google.colab.kernel.invokeFunction('convertToInteractive',\n",
              "                                                     [key], {});\n",
              "          if (!dataTable) return;\n",
              "\n",
              "          const docLinkHtml = 'Like what you see? Visit the ' +\n",
              "            '<a target=\"_blank\" href=https://colab.research.google.com/notebooks/data_table.ipynb>data table notebook</a>'\n",
              "            + ' to learn more about interactive tables.';\n",
              "          element.innerHTML = '';\n",
              "          dataTable['output_type'] = 'display_data';\n",
              "          await google.colab.output.renderOutput(dataTable, element);\n",
              "          const docLink = document.createElement('div');\n",
              "          docLink.innerHTML = docLinkHtml;\n",
              "          element.appendChild(docLink);\n",
              "        }\n",
              "      </script>\n",
              "    </div>\n",
              "  </div>\n"
            ]
          },
          "metadata": {},
          "execution_count": 8
        }
      ],
      "source": [
        "bank.describe()"
      ]
    },
    {
      "cell_type": "markdown",
      "metadata": {
        "id": "9ZYvxlvKK0mt"
      },
      "source": [
        "## 2.2 Ajustes no Data Frame"
      ]
    },
    {
      "cell_type": "markdown",
      "metadata": {
        "id": "--rjUYFOLRn-"
      },
      "source": [
        "### 2.1.1 Transformando as Váriaveis categoricas em númericas"
      ]
    },
    {
      "cell_type": "code",
      "execution_count": null,
      "metadata": {
        "colab": {
          "base_uri": "https://localhost:8080/"
        },
        "id": "7rOJ9JzqFiQT",
        "outputId": "f0f89f4d-1595-4e75-ca3b-a6046ee78883"
      },
      "outputs": [
        {
          "output_type": "stream",
          "name": "stdout",
          "text": [
            "As colunas categoricas são: ['job', 'marital', 'education', 'default', 'housing', 'loan', 'contact', 'month', 'poutcome', 'y'] a quantidade de colunas categoricas é 10 o número total de colunas do df é 17 , \n",
            "as colunas categoricas representam 59 %\n"
          ]
        }
      ],
      "source": [
        "# Criando uma cópia do Data Frame\n",
        "bank_dummy = bank.copy()\n",
        "\n",
        "# Separando as variáveis categoricas e númericas\n",
        "col_categoricas = bank_dummy.select_dtypes(include=\"object\").columns\n",
        "print(\"As colunas categoricas são:\",list(col_categoricas), 'a quantidade de colunas categoricas é', len(col_categoricas),\n",
        "      'o número total de colunas do df é', len(bank_dummy.columns),',',\n",
        "      '\\nas colunas categoricas representam',round(len(col_categoricas)/len(bank_dummy.columns)*100),'%')\n"
      ]
    },
    {
      "cell_type": "code",
      "execution_count": null,
      "metadata": {
        "colab": {
          "base_uri": "https://localhost:8080/",
          "height": 270
        },
        "id": "MZv6nO-rNlmv",
        "outputId": "fc252f97-4460-4614-d858-e695f20ae0a8"
      },
      "outputs": [
        {
          "output_type": "execute_result",
          "data": {
            "text/plain": [
              "   age           job  marital  education  default  balance  housing  loan  \\\n",
              "0   58    management  married   tertiary        0     2143        1     0   \n",
              "1   44    technician   single  secondary        0       29        1     0   \n",
              "2   33  entrepreneur  married  secondary        0        2        1     1   \n",
              "3   47   blue-collar  married    unknown        0     1506        1     0   \n",
              "4   33       unknown   single    unknown        0        1        0     0   \n",
              "\n",
              "   contact  day month  duration  campaign  pdays  previous poutcome  y  \n",
              "0  unknown    5   may       261         1     -1         0  unknown  0  \n",
              "1  unknown    5   may       151         1     -1         0  unknown  0  \n",
              "2  unknown    5   may        76         1     -1         0  unknown  0  \n",
              "3  unknown    5   may        92         1     -1         0  unknown  0  \n",
              "4  unknown    5   may       198         1     -1         0  unknown  0  "
            ],
            "text/html": [
              "\n",
              "\n",
              "  <div id=\"df-f786b3ac-e350-49ed-8be8-8262692892a8\">\n",
              "    <div class=\"colab-df-container\">\n",
              "      <div>\n",
              "<style scoped>\n",
              "    .dataframe tbody tr th:only-of-type {\n",
              "        vertical-align: middle;\n",
              "    }\n",
              "\n",
              "    .dataframe tbody tr th {\n",
              "        vertical-align: top;\n",
              "    }\n",
              "\n",
              "    .dataframe thead th {\n",
              "        text-align: right;\n",
              "    }\n",
              "</style>\n",
              "<table border=\"1\" class=\"dataframe\">\n",
              "  <thead>\n",
              "    <tr style=\"text-align: right;\">\n",
              "      <th></th>\n",
              "      <th>age</th>\n",
              "      <th>job</th>\n",
              "      <th>marital</th>\n",
              "      <th>education</th>\n",
              "      <th>default</th>\n",
              "      <th>balance</th>\n",
              "      <th>housing</th>\n",
              "      <th>loan</th>\n",
              "      <th>contact</th>\n",
              "      <th>day</th>\n",
              "      <th>month</th>\n",
              "      <th>duration</th>\n",
              "      <th>campaign</th>\n",
              "      <th>pdays</th>\n",
              "      <th>previous</th>\n",
              "      <th>poutcome</th>\n",
              "      <th>y</th>\n",
              "    </tr>\n",
              "  </thead>\n",
              "  <tbody>\n",
              "    <tr>\n",
              "      <th>0</th>\n",
              "      <td>58</td>\n",
              "      <td>management</td>\n",
              "      <td>married</td>\n",
              "      <td>tertiary</td>\n",
              "      <td>0</td>\n",
              "      <td>2143</td>\n",
              "      <td>1</td>\n",
              "      <td>0</td>\n",
              "      <td>unknown</td>\n",
              "      <td>5</td>\n",
              "      <td>may</td>\n",
              "      <td>261</td>\n",
              "      <td>1</td>\n",
              "      <td>-1</td>\n",
              "      <td>0</td>\n",
              "      <td>unknown</td>\n",
              "      <td>0</td>\n",
              "    </tr>\n",
              "    <tr>\n",
              "      <th>1</th>\n",
              "      <td>44</td>\n",
              "      <td>technician</td>\n",
              "      <td>single</td>\n",
              "      <td>secondary</td>\n",
              "      <td>0</td>\n",
              "      <td>29</td>\n",
              "      <td>1</td>\n",
              "      <td>0</td>\n",
              "      <td>unknown</td>\n",
              "      <td>5</td>\n",
              "      <td>may</td>\n",
              "      <td>151</td>\n",
              "      <td>1</td>\n",
              "      <td>-1</td>\n",
              "      <td>0</td>\n",
              "      <td>unknown</td>\n",
              "      <td>0</td>\n",
              "    </tr>\n",
              "    <tr>\n",
              "      <th>2</th>\n",
              "      <td>33</td>\n",
              "      <td>entrepreneur</td>\n",
              "      <td>married</td>\n",
              "      <td>secondary</td>\n",
              "      <td>0</td>\n",
              "      <td>2</td>\n",
              "      <td>1</td>\n",
              "      <td>1</td>\n",
              "      <td>unknown</td>\n",
              "      <td>5</td>\n",
              "      <td>may</td>\n",
              "      <td>76</td>\n",
              "      <td>1</td>\n",
              "      <td>-1</td>\n",
              "      <td>0</td>\n",
              "      <td>unknown</td>\n",
              "      <td>0</td>\n",
              "    </tr>\n",
              "    <tr>\n",
              "      <th>3</th>\n",
              "      <td>47</td>\n",
              "      <td>blue-collar</td>\n",
              "      <td>married</td>\n",
              "      <td>unknown</td>\n",
              "      <td>0</td>\n",
              "      <td>1506</td>\n",
              "      <td>1</td>\n",
              "      <td>0</td>\n",
              "      <td>unknown</td>\n",
              "      <td>5</td>\n",
              "      <td>may</td>\n",
              "      <td>92</td>\n",
              "      <td>1</td>\n",
              "      <td>-1</td>\n",
              "      <td>0</td>\n",
              "      <td>unknown</td>\n",
              "      <td>0</td>\n",
              "    </tr>\n",
              "    <tr>\n",
              "      <th>4</th>\n",
              "      <td>33</td>\n",
              "      <td>unknown</td>\n",
              "      <td>single</td>\n",
              "      <td>unknown</td>\n",
              "      <td>0</td>\n",
              "      <td>1</td>\n",
              "      <td>0</td>\n",
              "      <td>0</td>\n",
              "      <td>unknown</td>\n",
              "      <td>5</td>\n",
              "      <td>may</td>\n",
              "      <td>198</td>\n",
              "      <td>1</td>\n",
              "      <td>-1</td>\n",
              "      <td>0</td>\n",
              "      <td>unknown</td>\n",
              "      <td>0</td>\n",
              "    </tr>\n",
              "  </tbody>\n",
              "</table>\n",
              "</div>\n",
              "      <button class=\"colab-df-convert\" onclick=\"convertToInteractive('df-f786b3ac-e350-49ed-8be8-8262692892a8')\"\n",
              "              title=\"Convert this dataframe to an interactive table.\"\n",
              "              style=\"display:none;\">\n",
              "\n",
              "  <svg xmlns=\"http://www.w3.org/2000/svg\" height=\"24px\"viewBox=\"0 0 24 24\"\n",
              "       width=\"24px\">\n",
              "    <path d=\"M0 0h24v24H0V0z\" fill=\"none\"/>\n",
              "    <path d=\"M18.56 5.44l.94 2.06.94-2.06 2.06-.94-2.06-.94-.94-2.06-.94 2.06-2.06.94zm-11 1L8.5 8.5l.94-2.06 2.06-.94-2.06-.94L8.5 2.5l-.94 2.06-2.06.94zm10 10l.94 2.06.94-2.06 2.06-.94-2.06-.94-.94-2.06-.94 2.06-2.06.94z\"/><path d=\"M17.41 7.96l-1.37-1.37c-.4-.4-.92-.59-1.43-.59-.52 0-1.04.2-1.43.59L10.3 9.45l-7.72 7.72c-.78.78-.78 2.05 0 2.83L4 21.41c.39.39.9.59 1.41.59.51 0 1.02-.2 1.41-.59l7.78-7.78 2.81-2.81c.8-.78.8-2.07 0-2.86zM5.41 20L4 18.59l7.72-7.72 1.47 1.35L5.41 20z\"/>\n",
              "  </svg>\n",
              "      </button>\n",
              "\n",
              "\n",
              "\n",
              "    <div id=\"df-91deda54-e7d7-47b8-bb98-021a76b7a900\">\n",
              "      <button class=\"colab-df-quickchart\" onclick=\"quickchart('df-91deda54-e7d7-47b8-bb98-021a76b7a900')\"\n",
              "              title=\"Suggest charts.\"\n",
              "              style=\"display:none;\">\n",
              "\n",
              "<svg xmlns=\"http://www.w3.org/2000/svg\" height=\"24px\"viewBox=\"0 0 24 24\"\n",
              "     width=\"24px\">\n",
              "    <g>\n",
              "        <path d=\"M19 3H5c-1.1 0-2 .9-2 2v14c0 1.1.9 2 2 2h14c1.1 0 2-.9 2-2V5c0-1.1-.9-2-2-2zM9 17H7v-7h2v7zm4 0h-2V7h2v10zm4 0h-2v-4h2v4z\"/>\n",
              "    </g>\n",
              "</svg>\n",
              "      </button>\n",
              "    </div>\n",
              "\n",
              "<style>\n",
              "  .colab-df-quickchart {\n",
              "    background-color: #E8F0FE;\n",
              "    border: none;\n",
              "    border-radius: 50%;\n",
              "    cursor: pointer;\n",
              "    display: none;\n",
              "    fill: #1967D2;\n",
              "    height: 32px;\n",
              "    padding: 0 0 0 0;\n",
              "    width: 32px;\n",
              "  }\n",
              "\n",
              "  .colab-df-quickchart:hover {\n",
              "    background-color: #E2EBFA;\n",
              "    box-shadow: 0px 1px 2px rgba(60, 64, 67, 0.3), 0px 1px 3px 1px rgba(60, 64, 67, 0.15);\n",
              "    fill: #174EA6;\n",
              "  }\n",
              "\n",
              "  [theme=dark] .colab-df-quickchart {\n",
              "    background-color: #3B4455;\n",
              "    fill: #D2E3FC;\n",
              "  }\n",
              "\n",
              "  [theme=dark] .colab-df-quickchart:hover {\n",
              "    background-color: #434B5C;\n",
              "    box-shadow: 0px 1px 3px 1px rgba(0, 0, 0, 0.15);\n",
              "    filter: drop-shadow(0px 1px 2px rgba(0, 0, 0, 0.3));\n",
              "    fill: #FFFFFF;\n",
              "  }\n",
              "</style>\n",
              "\n",
              "    <script>\n",
              "      async function quickchart(key) {\n",
              "        const containerElement = document.querySelector('#' + key);\n",
              "        const charts = await google.colab.kernel.invokeFunction(\n",
              "            'suggestCharts', [key], {});\n",
              "      }\n",
              "    </script>\n",
              "\n",
              "      <script>\n",
              "\n",
              "function displayQuickchartButton(domScope) {\n",
              "  let quickchartButtonEl =\n",
              "    domScope.querySelector('#df-91deda54-e7d7-47b8-bb98-021a76b7a900 button.colab-df-quickchart');\n",
              "  quickchartButtonEl.style.display =\n",
              "    google.colab.kernel.accessAllowed ? 'block' : 'none';\n",
              "}\n",
              "\n",
              "        displayQuickchartButton(document);\n",
              "      </script>\n",
              "      <style>\n",
              "    .colab-df-container {\n",
              "      display:flex;\n",
              "      flex-wrap:wrap;\n",
              "      gap: 12px;\n",
              "    }\n",
              "\n",
              "    .colab-df-convert {\n",
              "      background-color: #E8F0FE;\n",
              "      border: none;\n",
              "      border-radius: 50%;\n",
              "      cursor: pointer;\n",
              "      display: none;\n",
              "      fill: #1967D2;\n",
              "      height: 32px;\n",
              "      padding: 0 0 0 0;\n",
              "      width: 32px;\n",
              "    }\n",
              "\n",
              "    .colab-df-convert:hover {\n",
              "      background-color: #E2EBFA;\n",
              "      box-shadow: 0px 1px 2px rgba(60, 64, 67, 0.3), 0px 1px 3px 1px rgba(60, 64, 67, 0.15);\n",
              "      fill: #174EA6;\n",
              "    }\n",
              "\n",
              "    [theme=dark] .colab-df-convert {\n",
              "      background-color: #3B4455;\n",
              "      fill: #D2E3FC;\n",
              "    }\n",
              "\n",
              "    [theme=dark] .colab-df-convert:hover {\n",
              "      background-color: #434B5C;\n",
              "      box-shadow: 0px 1px 3px 1px rgba(0, 0, 0, 0.15);\n",
              "      filter: drop-shadow(0px 1px 2px rgba(0, 0, 0, 0.3));\n",
              "      fill: #FFFFFF;\n",
              "    }\n",
              "  </style>\n",
              "\n",
              "      <script>\n",
              "        const buttonEl =\n",
              "          document.querySelector('#df-f786b3ac-e350-49ed-8be8-8262692892a8 button.colab-df-convert');\n",
              "        buttonEl.style.display =\n",
              "          google.colab.kernel.accessAllowed ? 'block' : 'none';\n",
              "\n",
              "        async function convertToInteractive(key) {\n",
              "          const element = document.querySelector('#df-f786b3ac-e350-49ed-8be8-8262692892a8');\n",
              "          const dataTable =\n",
              "            await google.colab.kernel.invokeFunction('convertToInteractive',\n",
              "                                                     [key], {});\n",
              "          if (!dataTable) return;\n",
              "\n",
              "          const docLinkHtml = 'Like what you see? Visit the ' +\n",
              "            '<a target=\"_blank\" href=https://colab.research.google.com/notebooks/data_table.ipynb>data table notebook</a>'\n",
              "            + ' to learn more about interactive tables.';\n",
              "          element.innerHTML = '';\n",
              "          dataTable['output_type'] = 'display_data';\n",
              "          await google.colab.output.renderOutput(dataTable, element);\n",
              "          const docLink = document.createElement('div');\n",
              "          docLink.innerHTML = docLinkHtml;\n",
              "          element.appendChild(docLink);\n",
              "        }\n",
              "      </script>\n",
              "    </div>\n",
              "  </div>\n"
            ]
          },
          "metadata": {},
          "execution_count": 10
        }
      ],
      "source": [
        "# Alterando os valore 'yes' para '1' e 'no' para '0'\n",
        "for col in col_categoricas:\n",
        "   if bank_dummy[col].nunique() == 2:\n",
        "        bank_dummy[col] = np.where(bank_dummy[col] == \"yes\", 1, 0)\n",
        "\n",
        "# Verificando o data frame alterado\n",
        "bank_dummy.head()"
      ]
    },
    {
      "cell_type": "markdown",
      "metadata": {
        "id": "PncVwfEeQoj6"
      },
      "source": [
        "Após alterar as colunas com os valores 'yes' e 'no' é necessário criar o one-hot-encoding para as varíaveis não binárias do data frame."
      ]
    },
    {
      "cell_type": "code",
      "execution_count": null,
      "metadata": {
        "colab": {
          "base_uri": "https://localhost:8080/",
          "height": 299
        },
        "id": "f3L6w7L9QgA8",
        "outputId": "0e752d0d-7d3e-4206-9fee-356d88c3bb3e"
      },
      "outputs": [
        {
          "output_type": "execute_result",
          "data": {
            "text/plain": [
              "   age  default  balance  housing  loan  day  duration  campaign  pdays  \\\n",
              "0   58        0     2143        1     0    5       261         1     -1   \n",
              "1   44        0       29        1     0    5       151         1     -1   \n",
              "2   33        0        2        1     1    5        76         1     -1   \n",
              "3   47        0     1506        1     0    5        92         1     -1   \n",
              "4   33        0        1        0     0    5       198         1     -1   \n",
              "\n",
              "   previous  ...  month_jun  month_mar  month_may  month_nov  month_oct  \\\n",
              "0         0  ...          0          0          1          0          0   \n",
              "1         0  ...          0          0          1          0          0   \n",
              "2         0  ...          0          0          1          0          0   \n",
              "3         0  ...          0          0          1          0          0   \n",
              "4         0  ...          0          0          1          0          0   \n",
              "\n",
              "   month_sep  poutcome_failure  poutcome_other  poutcome_success  \\\n",
              "0          0                 0               0                 0   \n",
              "1          0                 0               0                 0   \n",
              "2          0                 0               0                 0   \n",
              "3          0                 0               0                 0   \n",
              "4          0                 0               0                 0   \n",
              "\n",
              "   poutcome_unknown  \n",
              "0                 1  \n",
              "1                 1  \n",
              "2                 1  \n",
              "3                 1  \n",
              "4                 1  \n",
              "\n",
              "[5 rows x 49 columns]"
            ],
            "text/html": [
              "\n",
              "\n",
              "  <div id=\"df-c5dcf002-1699-4f5b-ac29-8b3eb40c9904\">\n",
              "    <div class=\"colab-df-container\">\n",
              "      <div>\n",
              "<style scoped>\n",
              "    .dataframe tbody tr th:only-of-type {\n",
              "        vertical-align: middle;\n",
              "    }\n",
              "\n",
              "    .dataframe tbody tr th {\n",
              "        vertical-align: top;\n",
              "    }\n",
              "\n",
              "    .dataframe thead th {\n",
              "        text-align: right;\n",
              "    }\n",
              "</style>\n",
              "<table border=\"1\" class=\"dataframe\">\n",
              "  <thead>\n",
              "    <tr style=\"text-align: right;\">\n",
              "      <th></th>\n",
              "      <th>age</th>\n",
              "      <th>default</th>\n",
              "      <th>balance</th>\n",
              "      <th>housing</th>\n",
              "      <th>loan</th>\n",
              "      <th>day</th>\n",
              "      <th>duration</th>\n",
              "      <th>campaign</th>\n",
              "      <th>pdays</th>\n",
              "      <th>previous</th>\n",
              "      <th>...</th>\n",
              "      <th>month_jun</th>\n",
              "      <th>month_mar</th>\n",
              "      <th>month_may</th>\n",
              "      <th>month_nov</th>\n",
              "      <th>month_oct</th>\n",
              "      <th>month_sep</th>\n",
              "      <th>poutcome_failure</th>\n",
              "      <th>poutcome_other</th>\n",
              "      <th>poutcome_success</th>\n",
              "      <th>poutcome_unknown</th>\n",
              "    </tr>\n",
              "  </thead>\n",
              "  <tbody>\n",
              "    <tr>\n",
              "      <th>0</th>\n",
              "      <td>58</td>\n",
              "      <td>0</td>\n",
              "      <td>2143</td>\n",
              "      <td>1</td>\n",
              "      <td>0</td>\n",
              "      <td>5</td>\n",
              "      <td>261</td>\n",
              "      <td>1</td>\n",
              "      <td>-1</td>\n",
              "      <td>0</td>\n",
              "      <td>...</td>\n",
              "      <td>0</td>\n",
              "      <td>0</td>\n",
              "      <td>1</td>\n",
              "      <td>0</td>\n",
              "      <td>0</td>\n",
              "      <td>0</td>\n",
              "      <td>0</td>\n",
              "      <td>0</td>\n",
              "      <td>0</td>\n",
              "      <td>1</td>\n",
              "    </tr>\n",
              "    <tr>\n",
              "      <th>1</th>\n",
              "      <td>44</td>\n",
              "      <td>0</td>\n",
              "      <td>29</td>\n",
              "      <td>1</td>\n",
              "      <td>0</td>\n",
              "      <td>5</td>\n",
              "      <td>151</td>\n",
              "      <td>1</td>\n",
              "      <td>-1</td>\n",
              "      <td>0</td>\n",
              "      <td>...</td>\n",
              "      <td>0</td>\n",
              "      <td>0</td>\n",
              "      <td>1</td>\n",
              "      <td>0</td>\n",
              "      <td>0</td>\n",
              "      <td>0</td>\n",
              "      <td>0</td>\n",
              "      <td>0</td>\n",
              "      <td>0</td>\n",
              "      <td>1</td>\n",
              "    </tr>\n",
              "    <tr>\n",
              "      <th>2</th>\n",
              "      <td>33</td>\n",
              "      <td>0</td>\n",
              "      <td>2</td>\n",
              "      <td>1</td>\n",
              "      <td>1</td>\n",
              "      <td>5</td>\n",
              "      <td>76</td>\n",
              "      <td>1</td>\n",
              "      <td>-1</td>\n",
              "      <td>0</td>\n",
              "      <td>...</td>\n",
              "      <td>0</td>\n",
              "      <td>0</td>\n",
              "      <td>1</td>\n",
              "      <td>0</td>\n",
              "      <td>0</td>\n",
              "      <td>0</td>\n",
              "      <td>0</td>\n",
              "      <td>0</td>\n",
              "      <td>0</td>\n",
              "      <td>1</td>\n",
              "    </tr>\n",
              "    <tr>\n",
              "      <th>3</th>\n",
              "      <td>47</td>\n",
              "      <td>0</td>\n",
              "      <td>1506</td>\n",
              "      <td>1</td>\n",
              "      <td>0</td>\n",
              "      <td>5</td>\n",
              "      <td>92</td>\n",
              "      <td>1</td>\n",
              "      <td>-1</td>\n",
              "      <td>0</td>\n",
              "      <td>...</td>\n",
              "      <td>0</td>\n",
              "      <td>0</td>\n",
              "      <td>1</td>\n",
              "      <td>0</td>\n",
              "      <td>0</td>\n",
              "      <td>0</td>\n",
              "      <td>0</td>\n",
              "      <td>0</td>\n",
              "      <td>0</td>\n",
              "      <td>1</td>\n",
              "    </tr>\n",
              "    <tr>\n",
              "      <th>4</th>\n",
              "      <td>33</td>\n",
              "      <td>0</td>\n",
              "      <td>1</td>\n",
              "      <td>0</td>\n",
              "      <td>0</td>\n",
              "      <td>5</td>\n",
              "      <td>198</td>\n",
              "      <td>1</td>\n",
              "      <td>-1</td>\n",
              "      <td>0</td>\n",
              "      <td>...</td>\n",
              "      <td>0</td>\n",
              "      <td>0</td>\n",
              "      <td>1</td>\n",
              "      <td>0</td>\n",
              "      <td>0</td>\n",
              "      <td>0</td>\n",
              "      <td>0</td>\n",
              "      <td>0</td>\n",
              "      <td>0</td>\n",
              "      <td>1</td>\n",
              "    </tr>\n",
              "  </tbody>\n",
              "</table>\n",
              "<p>5 rows × 49 columns</p>\n",
              "</div>\n",
              "      <button class=\"colab-df-convert\" onclick=\"convertToInteractive('df-c5dcf002-1699-4f5b-ac29-8b3eb40c9904')\"\n",
              "              title=\"Convert this dataframe to an interactive table.\"\n",
              "              style=\"display:none;\">\n",
              "\n",
              "  <svg xmlns=\"http://www.w3.org/2000/svg\" height=\"24px\"viewBox=\"0 0 24 24\"\n",
              "       width=\"24px\">\n",
              "    <path d=\"M0 0h24v24H0V0z\" fill=\"none\"/>\n",
              "    <path d=\"M18.56 5.44l.94 2.06.94-2.06 2.06-.94-2.06-.94-.94-2.06-.94 2.06-2.06.94zm-11 1L8.5 8.5l.94-2.06 2.06-.94-2.06-.94L8.5 2.5l-.94 2.06-2.06.94zm10 10l.94 2.06.94-2.06 2.06-.94-2.06-.94-.94-2.06-.94 2.06-2.06.94z\"/><path d=\"M17.41 7.96l-1.37-1.37c-.4-.4-.92-.59-1.43-.59-.52 0-1.04.2-1.43.59L10.3 9.45l-7.72 7.72c-.78.78-.78 2.05 0 2.83L4 21.41c.39.39.9.59 1.41.59.51 0 1.02-.2 1.41-.59l7.78-7.78 2.81-2.81c.8-.78.8-2.07 0-2.86zM5.41 20L4 18.59l7.72-7.72 1.47 1.35L5.41 20z\"/>\n",
              "  </svg>\n",
              "      </button>\n",
              "\n",
              "\n",
              "\n",
              "    <div id=\"df-aef9d652-936c-4d30-9488-cfcc75f3374e\">\n",
              "      <button class=\"colab-df-quickchart\" onclick=\"quickchart('df-aef9d652-936c-4d30-9488-cfcc75f3374e')\"\n",
              "              title=\"Suggest charts.\"\n",
              "              style=\"display:none;\">\n",
              "\n",
              "<svg xmlns=\"http://www.w3.org/2000/svg\" height=\"24px\"viewBox=\"0 0 24 24\"\n",
              "     width=\"24px\">\n",
              "    <g>\n",
              "        <path d=\"M19 3H5c-1.1 0-2 .9-2 2v14c0 1.1.9 2 2 2h14c1.1 0 2-.9 2-2V5c0-1.1-.9-2-2-2zM9 17H7v-7h2v7zm4 0h-2V7h2v10zm4 0h-2v-4h2v4z\"/>\n",
              "    </g>\n",
              "</svg>\n",
              "      </button>\n",
              "    </div>\n",
              "\n",
              "<style>\n",
              "  .colab-df-quickchart {\n",
              "    background-color: #E8F0FE;\n",
              "    border: none;\n",
              "    border-radius: 50%;\n",
              "    cursor: pointer;\n",
              "    display: none;\n",
              "    fill: #1967D2;\n",
              "    height: 32px;\n",
              "    padding: 0 0 0 0;\n",
              "    width: 32px;\n",
              "  }\n",
              "\n",
              "  .colab-df-quickchart:hover {\n",
              "    background-color: #E2EBFA;\n",
              "    box-shadow: 0px 1px 2px rgba(60, 64, 67, 0.3), 0px 1px 3px 1px rgba(60, 64, 67, 0.15);\n",
              "    fill: #174EA6;\n",
              "  }\n",
              "\n",
              "  [theme=dark] .colab-df-quickchart {\n",
              "    background-color: #3B4455;\n",
              "    fill: #D2E3FC;\n",
              "  }\n",
              "\n",
              "  [theme=dark] .colab-df-quickchart:hover {\n",
              "    background-color: #434B5C;\n",
              "    box-shadow: 0px 1px 3px 1px rgba(0, 0, 0, 0.15);\n",
              "    filter: drop-shadow(0px 1px 2px rgba(0, 0, 0, 0.3));\n",
              "    fill: #FFFFFF;\n",
              "  }\n",
              "</style>\n",
              "\n",
              "    <script>\n",
              "      async function quickchart(key) {\n",
              "        const containerElement = document.querySelector('#' + key);\n",
              "        const charts = await google.colab.kernel.invokeFunction(\n",
              "            'suggestCharts', [key], {});\n",
              "      }\n",
              "    </script>\n",
              "\n",
              "      <script>\n",
              "\n",
              "function displayQuickchartButton(domScope) {\n",
              "  let quickchartButtonEl =\n",
              "    domScope.querySelector('#df-aef9d652-936c-4d30-9488-cfcc75f3374e button.colab-df-quickchart');\n",
              "  quickchartButtonEl.style.display =\n",
              "    google.colab.kernel.accessAllowed ? 'block' : 'none';\n",
              "}\n",
              "\n",
              "        displayQuickchartButton(document);\n",
              "      </script>\n",
              "      <style>\n",
              "    .colab-df-container {\n",
              "      display:flex;\n",
              "      flex-wrap:wrap;\n",
              "      gap: 12px;\n",
              "    }\n",
              "\n",
              "    .colab-df-convert {\n",
              "      background-color: #E8F0FE;\n",
              "      border: none;\n",
              "      border-radius: 50%;\n",
              "      cursor: pointer;\n",
              "      display: none;\n",
              "      fill: #1967D2;\n",
              "      height: 32px;\n",
              "      padding: 0 0 0 0;\n",
              "      width: 32px;\n",
              "    }\n",
              "\n",
              "    .colab-df-convert:hover {\n",
              "      background-color: #E2EBFA;\n",
              "      box-shadow: 0px 1px 2px rgba(60, 64, 67, 0.3), 0px 1px 3px 1px rgba(60, 64, 67, 0.15);\n",
              "      fill: #174EA6;\n",
              "    }\n",
              "\n",
              "    [theme=dark] .colab-df-convert {\n",
              "      background-color: #3B4455;\n",
              "      fill: #D2E3FC;\n",
              "    }\n",
              "\n",
              "    [theme=dark] .colab-df-convert:hover {\n",
              "      background-color: #434B5C;\n",
              "      box-shadow: 0px 1px 3px 1px rgba(0, 0, 0, 0.15);\n",
              "      filter: drop-shadow(0px 1px 2px rgba(0, 0, 0, 0.3));\n",
              "      fill: #FFFFFF;\n",
              "    }\n",
              "  </style>\n",
              "\n",
              "      <script>\n",
              "        const buttonEl =\n",
              "          document.querySelector('#df-c5dcf002-1699-4f5b-ac29-8b3eb40c9904 button.colab-df-convert');\n",
              "        buttonEl.style.display =\n",
              "          google.colab.kernel.accessAllowed ? 'block' : 'none';\n",
              "\n",
              "        async function convertToInteractive(key) {\n",
              "          const element = document.querySelector('#df-c5dcf002-1699-4f5b-ac29-8b3eb40c9904');\n",
              "          const dataTable =\n",
              "            await google.colab.kernel.invokeFunction('convertToInteractive',\n",
              "                                                     [key], {});\n",
              "          if (!dataTable) return;\n",
              "\n",
              "          const docLinkHtml = 'Like what you see? Visit the ' +\n",
              "            '<a target=\"_blank\" href=https://colab.research.google.com/notebooks/data_table.ipynb>data table notebook</a>'\n",
              "            + ' to learn more about interactive tables.';\n",
              "          element.innerHTML = '';\n",
              "          dataTable['output_type'] = 'display_data';\n",
              "          await google.colab.output.renderOutput(dataTable, element);\n",
              "          const docLink = document.createElement('div');\n",
              "          docLink.innerHTML = docLinkHtml;\n",
              "          element.appendChild(docLink);\n",
              "        }\n",
              "      </script>\n",
              "    </div>\n",
              "  </div>\n"
            ]
          },
          "metadata": {},
          "execution_count": 11
        }
      ],
      "source": [
        "# Criando uma cópia do data frame com as varívaies binárias alteradas\n",
        "bank_one_hot = bank_dummy.copy()\n",
        "\n",
        "# Criando as dummies one-hot\n",
        "bank_one_hot = pd.get_dummies(bank_one_hot)\n",
        "\n",
        "#Verificando o novo DF\n",
        "bank_one_hot.head()"
      ]
    },
    {
      "cell_type": "code",
      "execution_count": null,
      "metadata": {
        "colab": {
          "base_uri": "https://localhost:8080/"
        },
        "id": "fDNxGs1lSsV0",
        "outputId": "8a8a14ac-c73f-4416-cda9-43e5aae11809"
      },
      "outputs": [
        {
          "output_type": "stream",
          "name": "stdout",
          "text": [
            "Nota-se que o dataframe original continha 17 colunas, enquanto o novo data frame contém 49 colunas,\n",
            "isto representa um aumento de 32 colunas no dataframe\n"
          ]
        }
      ],
      "source": [
        "print(\n",
        "    'Nota-se que o dataframe original continha',len(bank.columns), 'colunas, enquanto o novo data frame contém', len(bank_one_hot.columns), 'colunas,\\nisto representa um aumento de',\n",
        "    len(bank_one_hot.columns)-len(bank.columns), 'colunas no dataframe'\n",
        ")"
      ]
    },
    {
      "cell_type": "markdown",
      "metadata": {
        "id": "oVPqJ1_MTx7q"
      },
      "source": [
        "## 2.3 Treinando o modelo"
      ]
    },
    {
      "cell_type": "markdown",
      "metadata": {
        "id": "DlKhHEnlUKbP"
      },
      "source": [
        "### 2.3.1 Preparando os dados"
      ]
    },
    {
      "cell_type": "code",
      "execution_count": null,
      "metadata": {
        "id": "5OU-zq63TdPr"
      },
      "outputs": [],
      "source": [
        "# Criando uma cópia para a modelagem\n",
        "df_modelo = bank_one_hot.copy()\n",
        "\n",
        "# Alterando o nome da variável target\n",
        "df_modelo = df_modelo.rename({'y':'target'}, axis=1)\n",
        "\n",
        "# Ajustando a variável explicativa\n",
        "X = df_modelo.copy()\n",
        "X = X.drop('target', axis=1)\n",
        "\n",
        "# Ajustando variável de saída\n",
        "y = df_modelo['target']\n",
        "\n",
        "# Separando os dados de treino e de teste, será utilizado 80% do dataset para treino e 20% para teste\n",
        "X_train, X_test, y_train, y_test = train_test_split(X, y, test_size=0.2, random_state=7)\n",
        "\n",
        "# Criando os folds para validação cruzada\n",
        "num_particoes = 10\n",
        "\n",
        "# Realizando a partição em 10 folds\n",
        "Kfold = KFold(n_splits= num_particoes, shuffle = True, random_state=7)\n"
      ]
    },
    {
      "cell_type": "markdown",
      "metadata": {
        "id": "6xDWVfxLXHhg"
      },
      "source": [
        "## 2.4 Modelagem"
      ]
    },
    {
      "cell_type": "markdown",
      "metadata": {
        "id": "ZuKVCPE5Ht6x"
      },
      "source": [
        "### 2.4.1 Base Line"
      ]
    },
    {
      "cell_type": "code",
      "execution_count": null,
      "metadata": {
        "colab": {
          "base_uri": "https://localhost:8080/",
          "height": 547
        },
        "id": "7zbhWL-9V_8N",
        "outputId": "350662cf-bd6d-49ef-f0d1-692ad1c16dc4"
      },
      "outputs": [
        {
          "output_type": "stream",
          "name": "stdout",
          "text": [
            "KNN: 0.883129 (0.005003)\n",
            "CART: 0.875995 (0.005613)\n",
            "NB: 0.852411 (0.006330)\n",
            "SVM: 0.881691 (0.003015)\n"
          ]
        },
        {
          "output_type": "display_data",
          "data": {
            "text/plain": [
              "<Figure size 640x480 with 1 Axes>"
            ],
            "image/png": "[encoded data removed]"
          },
          "metadata": {}
        }
      ],
      "source": [
        "# Definindo o seed para a célula\n",
        "seed = 1000\n",
        "np.random.seed(seed)\n",
        "\n",
        "# Adicionando as listas para armazenar os modelos, os resultados e os nomes\n",
        "models = []\n",
        "results = []\n",
        "names = []\n",
        "\n",
        "# Preparando os modelos e adicionando a lista 'models'\n",
        "models.append(('KNN', KNeighborsClassifier()))\n",
        "models.append(('CART', DecisionTreeClassifier()))\n",
        "models.append(('NB', GaussianNB()))\n",
        "models.append(('SVM', SVC()))\n",
        "\n",
        "# Ajustando o loop 'for' para criar um modelo por vez\n",
        "for name, model in models:\n",
        "  cv_results = cross_val_score(model, X_train, y_train, cv=Kfold, scoring='accuracy')\n",
        "  results.append(cv_results)\n",
        "  names.append(name)\n",
        "\n",
        "  # Verificando a média e o desvio padrão dos 10 resultados da validação cruzada\n",
        "  msg = '%s: %f (%f)'%(name, cv_results.mean(), cv_results.std())\n",
        "\n",
        "  print(msg)\n",
        "\n",
        "# Plotando gráfico de comparação dos modelos\n",
        "fig = plt.figure()\n",
        "fig.suptitle('comparação da Acurácia dos Modelos')\n",
        "ax = fig.add_subplot(111)\n",
        "plt.boxplot(results)\n",
        "ax.set_xticklabels(names)\n",
        "plt.show()"
      ]
    },
    {
      "cell_type": "markdown",
      "metadata": {
        "id": "4yA64WbIa-i-"
      },
      "source": [
        "Nota-se que os modelos KNN e SVM tiveram os melhores resultads do modelo, para entender qual dentre eles teve a melhor acurácia será efetuado dois testes de acuracia comparando os resultados do modelo de teste com o modelo de treino."
      ]
    },
    {
      "cell_type": "markdown",
      "metadata": {
        "id": "dMt74mT3bWwO"
      },
      "source": [
        "### 2.4.1 Testando a Acurácia do modelo KNN"
      ]
    },
    {
      "cell_type": "code",
      "execution_count": null,
      "metadata": {
        "colab": {
          "base_uri": "https://localhost:8080/"
        },
        "id": "pUB54ej7Y6i-",
        "outputId": "5f11c8ae-ec61-4422-a851-127425d1e9e1"
      },
      "outputs": [
        {
          "output_type": "stream",
          "name": "stdout",
          "text": [
            "A acurácia foi 88.30%\n"
          ]
        }
      ],
      "source": [
        "# Criando o coleno com o conjunto de treino\n",
        "modelo = KNeighborsClassifier()\n",
        "modelo.fit(X_train, y_train)\n",
        "\n",
        "# Utilizando o modelo de test para realizar as predições\n",
        "predictions = modelo.predict(X_test)\n",
        "\n",
        "# Calculando a acurácia\n",
        "acuracia = accuracy_score(y_test, predictions)\n",
        "\n",
        "print('A acurácia foi %.2f%%' % (acuracia*100))"
      ]
    },
    {
      "cell_type": "markdown",
      "metadata": {
        "id": "uI2WT_BEcxyp"
      },
      "source": [
        "### 2.4.2 Testando a Acurácia do modelo SVM"
      ]
    },
    {
      "cell_type": "code",
      "execution_count": null,
      "metadata": {
        "colab": {
          "base_uri": "https://localhost:8080/"
        },
        "id": "WPFRIHxPcSxJ",
        "outputId": "d5637f33-950d-4cd8-c8bf-bf5902fe7cce"
      },
      "outputs": [
        {
          "output_type": "stream",
          "name": "stdout",
          "text": [
            "A acurácia foi 88.81%\n"
          ]
        }
      ],
      "source": [
        "# Criando o coleno com o conjunto de treino\n",
        "modelo = SVC()\n",
        "modelo.fit(X_train, y_train)\n",
        "\n",
        "# Utilizando o modelo de test para realizar as predições\n",
        "predictions = modelo.predict(X_test)\n",
        "\n",
        "# Calculando a acurácia\n",
        "acuracia = accuracy_score(y_test, predictions)\n",
        "\n",
        "print('A acurácia foi %.2f%%' % (acuracia*100))"
      ]
    },
    {
      "cell_type": "markdown",
      "metadata": {
        "id": "pm870wHpDbVp"
      },
      "source": [
        "Conforme é possível observar os resultados do modelo de Support Vector Machine e do K-Neighbors - Classifier tiveram uma acurácia muito similiar com o Data set de treino conseguindo classificar de maneira adqueda a maior parte dos dados de entrada. Irão ser utilizados os metodos de otimização, padronização e normalização dados para ver qual a melhor metrica para estes."
      ]
    },
    {
      "cell_type": "markdown",
      "metadata": {
        "id": "QCucU6hLE0JQ"
      },
      "source": [
        "### 2.4.3 Padronizando e normalizando os dados"
      ]
    },
    {
      "cell_type": "code",
      "execution_count": null,
      "metadata": {
        "id": "v0gZSoduEN6n",
        "outputId": "1b1e5056-b0cf-45d6-b11f-0d7b2ff099f2",
        "colab": {
          "base_uri": "https://localhost:8080/",
          "height": 454
        }
      },
      "outputs": [
        {
          "output_type": "stream",
          "name": "stdout",
          "text": [
            "KNN-orig: 0.883 (0.005)\n",
            "SVM-orig: 0.882 (0.003)\n",
            "KNN-padr: 0.891 (0.003)\n",
            "SVM-padr: 0.902 (0.003)\n",
            "KNN-norm: 0.888 (0.004)\n",
            "SVM-norm: 0.894 (0.002)\n"
          ]
        },
        {
          "output_type": "display_data",
          "data": {
            "text/plain": [
              "<Figure size 2500x600 with 1 Axes>"
            ],
            "image/png": "[encoded data removed]"
          },
          "metadata": {}
        }
      ],
      "source": [
        "np.random.seed(7) # definindo uma semente global para este bloco\n",
        "\n",
        "# Listas para armazenar os armazenar os pipelines e os resultados para todas as visões do dataset\n",
        "pipelines = []\n",
        "results = []\n",
        "names = []\n",
        "\n",
        "\n",
        "# Criando os elementos do pipeline\n",
        "\n",
        "# Algoritmos que serão utilizados\n",
        "knn = ('KNN', KNeighborsClassifier())\n",
        "svm = ('SVM', SVC())\n",
        "\n",
        "# Transformações que serão utilizadas\n",
        "standard_scaler = ('StandardScaler', StandardScaler())\n",
        "min_max_scaler = ('MinMaxScaler', MinMaxScaler())\n",
        "\n",
        "\n",
        "# Montando os pipelines\n",
        "\n",
        "# Dataset original\n",
        "pipelines.append(('KNN-orig', Pipeline([knn])))\n",
        "pipelines.append(('SVM-orig', Pipeline([svm])))\n",
        "\n",
        "\n",
        "# Dataset Padronizado\n",
        "pipelines.append(('KNN-padr', Pipeline([standard_scaler, knn])))\n",
        "pipelines.append(('SVM-padr', Pipeline([standard_scaler, svm])))\n",
        "\n",
        "\n",
        "# Dataset Normalizado\n",
        "pipelines.append(('KNN-norm', Pipeline([min_max_scaler, knn])))\n",
        "pipelines.append(('SVM-norm', Pipeline([min_max_scaler, svm])))\n",
        "\n",
        "\n",
        "# Executando os pipelines\n",
        "for name, model in pipelines:\n",
        "    cv_results = cross_val_score(model, X_train, y_train, cv=Kfold, scoring='accuracy')\n",
        "    results.append(cv_results)\n",
        "    names.append(name)\n",
        "    msg = \"%s: %.3f (%.3f)\" % (name, cv_results.mean(), cv_results.std()) # formatando para 3 casas decimais\n",
        "    print(msg)\n",
        "\n",
        "# Boxplot de comparação dos modelos\n",
        "fig = plt.figure(figsize=(25,6))\n",
        "fig.suptitle('Comparação dos Modelos - Dataset orginal, padronizado e normalizado')\n",
        "ax = fig.add_subplot(111)\n",
        "plt.boxplot(results)\n",
        "ax.set_xticklabels(names, rotation=90)\n",
        "plt.show()"
      ]
    },
    {
      "cell_type": "markdown",
      "metadata": {
        "id": "2j9DX5N_JvXV"
      },
      "source": [
        "Conforme podemos observar no gráfico acima, há um marginal na capacidade de previsão do modelo quando os dados são normalizados e padronizados. No entanto, esse ganho é mais superior ao realizar o processo de padronização em relação ao processo de normalização, especialmente no método SVM."
      ]
    },
    {
      "cell_type": "markdown",
      "metadata": {
        "id": "uwSujce1KdlU"
      },
      "source": [
        "### 2.4.4 Otimizando os hiperparâmetros"
      ]
    },
    {
      "cell_type": "markdown",
      "metadata": {
        "id": "WdabGadpKtNW"
      },
      "source": [
        "#### 2.4.4.1 KNN"
      ]
    },
    {
      "cell_type": "code",
      "execution_count": null,
      "metadata": {
        "id": "9LmrJ6oDKnOk",
        "colab": {
          "base_uri": "https://localhost:8080/"
        },
        "outputId": "0908f63c-1538-4ed4-fe63-aa5cea4840a9"
      },
      "outputs": [
        {
          "metadata": {
            "tags": null
          },
          "name": "stdout",
          "output_type": "stream",
          "text": [
            "Sem tratamento de missings: knn-orig - Melhor: 0.887082 usando {'KNN__metric': 'manhattan', 'KNN__n_neighbors': 15}\n",
            "Sem tratamento de missings: knn-padr - Melhor: 0.895156 usando {'KNN__metric': 'euclidean', 'KNN__n_neighbors': 15}\n"
          ]
        }
      ],
      "source": [
        "# Tuning do KNN\n",
        "\n",
        "np.random.seed(7) # definindo uma semente global para este bloco\n",
        "\n",
        "pipelines = []\n",
        "\n",
        "# Definindo os componentes do pipeline\n",
        "knn = ('KNN', KNeighborsClassifier())\n",
        "standard_scaler = ('StandardScaler', StandardScaler())\n",
        "min_max_scaler = ('MinMaxScaler', MinMaxScaler())\n",
        "\n",
        "pipelines.append(('knn-orig', Pipeline(steps=[knn])))\n",
        "pipelines.append(('knn-padr', Pipeline(steps=[standard_scaler, knn])))\n",
        "pipelines.append(('knn-norm', Pipeline(steps=[min_max_scaler, knn])))\n",
        "\n",
        "param_grid = {\n",
        "    'KNN__n_neighbors': [1,3,5,7,9,11,13,15,17,19,21],\n",
        "    'KNN__metric': [\"euclidean\", \"manhattan\", \"minkowski\"],\n",
        "}\n",
        "\n",
        "# Prepara e executa o GridSearchCV\n",
        "for name, model in pipelines:\n",
        "    grid = GridSearchCV(estimator=model, param_grid=param_grid, scoring='accuracy', cv=Kfold)\n",
        "    grid.fit(X_train, y_train)\n",
        "    # imprime a melhor configuração\n",
        "    print(\"Sem tratamento de missings: %s - Melhor: %f usando %s\" % (name, grid.best_score_, grid.best_params_))"
      ]
    },
    {
      "cell_type": "markdown",
      "metadata": {
        "id": "dYtfuol3eRHC"
      },
      "source": [
        "Nota-se que com a otimização dos hiperparametro o modelo KNN, conforme observado anteriormente, tem o seu melhor resultado por meio da Padronização utilizando a medida Euclidiana."
      ]
    },
    {
      "cell_type": "markdown",
      "metadata": {
        "id": "nm8iqVNpzfPn"
      },
      "source": [
        "## 2.5 Conclusão modelo de classificação"
      ]
    },
    {
      "cell_type": "markdown",
      "metadata": {
        "id": "33G_zEcszouA"
      },
      "source": [
        "Após treinar o modelo e relizar o teste da acuracia ficou evidente que o modelo de KNN e SVM foram os que conseguiram melhor aprender o comportamento dos dados e desta maneira gerar o melhor classificador para os clientes do banco, com uma acuracia de 88,30% e 88,81% nos parêmetros origianais.\n",
        "\n",
        "Ao realizar a normalização e padronização dos dados houve uma melhora marginal do resultado de ambos os modelos. A padronização dos dados se mostrou mais eficaz para melhorar a resposta do modelo.Contudo é importante ressaltar que o ganho da padronização não aumentou de maneira significativa o resultado dos modelos, sendo possível utilizar os resultados originais do teste para obter bons resultados.\n",
        "\n",
        "Neste sentido após estas etapas de treinamento seria possível utilizar o modelo em produção para classificar os novos clientes do banco com o objetivo de melhorar a tomada de decisão dos lideres.\n",
        "\n"
      ]
    },
    {
      "cell_type": "markdown",
      "metadata": {
        "id": "psavkZJXduen"
      },
      "source": [
        "# 3. Processamento de linguagem natural"
      ]
    },
    {
      "cell_type": "markdown",
      "metadata": {
        "id": "OLe7yswnHMYO"
      },
      "source": [
        "## 3.1 Contextualização"
      ]
    },
    {
      "cell_type": "markdown",
      "metadata": {
        "id": "2iNqJk6aHlas"
      },
      "source": [
        "O modelo de Processamento de Linguagem Natural consiste em analisar um conjunto de dados textuais seja de relatórios, textos, tweets e buscar por meio da analise destes dados as similaridades entre as palavras contidas em frases ou paragrafos. Desta forma é possível treinar o modelo para realizar uma analise de sentimentos ou mesmo treinar a máquina para ser capaz de traduzir texto como é o caso do *Google Translate* ou gerar novos texto como o *Chat-GPT*.\n",
        "\n",
        "Nesta notebook, conforme exposto anteriormente, será analisada a base de dados disponível no Keagle 'Brazil - Monetary Policy Committee Minutes'. O objetivo da analise e entender quais são as principais palavras chaves, que podem expressar as preocupações da autorizade monetária brasileira.\n",
        "\n",
        "Esta etapa foi dividida em terês etapas, sendo primeiro realizada uma analise preliminar buscando comprender quais são as principais palavras chaves contidas nas minutas. Em seguida foi realizado o pré-processamento dos dados separando por frases, para que estas sejam inseridas no modelo a ser treinado.\n",
        "\n",
        "Por fim, foi rodado o modelo e buscou-se compreender em qual contexto as principais palavras chaves estavam inseridas. Ao final deste bloco contém a conclusão da analise do modelo."
      ]
    },
    {
      "cell_type": "markdown",
      "metadata": {
        "id": "W2AkMpiufZgA"
      },
      "source": [
        "## 3.2 Analise preliminar"
      ]
    },
    {
      "cell_type": "code",
      "execution_count": null,
      "metadata": {
        "id": "aQ_9mQ9mc-1I"
      },
      "outputs": [],
      "source": [
        "compom.head()"
      ]
    },
    {
      "cell_type": "code",
      "execution_count": null,
      "metadata": {
        "id": "GE57fQaLnoQL"
      },
      "outputs": [],
      "source": [
        "# Criando data frame apenas com os dados 'text'\n",
        "texto = pd.DataFrame({'text':compom['text']})\n",
        "\n",
        "texto.head()\n"
      ]
    },
    {
      "cell_type": "code",
      "execution_count": null,
      "metadata": {
        "id": "nC87kWZOqAAh"
      },
      "outputs": [],
      "source": [
        "# Copiando o data frame\n",
        "texto_limpo = texto.copy()\n",
        "\n",
        "# Retirando os caracteres especiais\n",
        "texto_limpo['text'] = texto_limpo['text'].apply(limpar_texto)\n",
        "\n",
        "# Ajustando as palavras em textos minusculos para impedir texto iguais escritos de maneira diferente\n",
        "texto_limpo['text'] = texto_limpo['text'].str.lower()\n",
        "\n",
        "# Baixando conjunto de tokens\n",
        "nltk.download('punkt')\n",
        "\n",
        "# Concatenando os elementos da serie em uma string\n",
        "texto_completo = ' '.join(texto_limpo['text'])\n",
        "\n",
        "# Criando a tokenizalçai das palavras\n",
        "tokens = nltk.word_tokenize(texto_completo)\n",
        "\n",
        "# Verificando os ajustes\n",
        "print(texto_limpo)\n",
        "print(tokens)\n"
      ]
    },
    {
      "cell_type": "code",
      "execution_count": null,
      "metadata": {
        "id": "u2pRsWEHtWFl"
      },
      "outputs": [],
      "source": [
        "nltk.download('stopwords')\n",
        "from nltk.corpus import stopwords\n",
        "\n",
        "# criando lista com as palavras de parada\n",
        "stop_words = stopwords.words('portuguese')\n",
        "\n",
        "# Removendo as stop words\n",
        "filtered_review = [\n",
        "    word for word in tokens if word not in stop_words\n",
        "]\n",
        "\n",
        "print(filtered_review)"
      ]
    },
    {
      "cell_type": "code",
      "execution_count": null,
      "metadata": {
        "id": "cF0q3oAZQuiN"
      },
      "outputs": [],
      "source": [
        "nltk.download('rslp')\n",
        "\n",
        "stemmer = nltk.stem.RSLPStemmer()\n",
        "\n",
        "# removendo os afixos morfológicos das palavras\n",
        "stemmed_review = [stemmer.stem(word) for word in filtered_review]\n",
        "\n",
        "print(stemmed_review)"
      ]
    },
    {
      "cell_type": "code",
      "execution_count": null,
      "metadata": {
        "id": "n1ah88KKRYol"
      },
      "outputs": [],
      "source": [
        "# Criando variável com as palavras principais\n",
        "fd = FreqDist(filtered_review)\n",
        "\n",
        "# verificando a frequencia das palavras\n",
        "for word in list(fd.keys())[:20]:\n",
        "  print(word, fd[word])"
      ]
    },
    {
      "cell_type": "markdown",
      "metadata": {
        "id": "ye_3OvUsTWKX"
      },
      "source": [
        "Após a analise prelimar é possível notar que as palavras, 'crescimento', 'sobre' e 'aperto' são as princiapis do texto. Contudo, o número '1' também aparece com frequência neste sentido será necessário retirar essa númeral do texto. A palavra sobre não tem muita importancia para a analise, uma vez que ela é utilizada para dar sentido a frase, como por exemplo: 'O aumento da inflação nos Estados Unidos tem um impacto **sobre** os preços no Brasil' neste caso seria interessante verificar as palavras 'inflação' e 'preço' que são importantes para a analise economica."
      ]
    },
    {
      "cell_type": "markdown",
      "metadata": {
        "id": "lKeFyWsuWRjQ"
      },
      "source": [
        "## 3.3 Pré-processamento dos dados"
      ]
    },
    {
      "cell_type": "code",
      "execution_count": null,
      "metadata": {
        "id": "9lq68f51TRKp"
      },
      "outputs": [],
      "source": [
        "# Criando cópia do dataframe original\n",
        "df_text = texto.copy()\n",
        "\n",
        "# importando dados para analise\n",
        "spacy.cli.download('pt_core_news_sm')\n",
        "nlp = spacy.load('pt_core_news_sm', disable=['ner', 'parser'])\n",
        "\n",
        "# Retirando o número '1' do texto\n",
        "df_clean = df_text['text'].replace({'1.':''}, regex = True)\n",
        "\n",
        "# Transformando a base em uma coluna tipo 'text'\n",
        "df_clean = ' '.join(df_clean.tolist())\n",
        "\n",
        "# removendo caracteres não-alfa numéricos\n",
        "df_clean = re.sub(r'[^\\w\\s]', '', df_clean)\n",
        "\n",
        "# colocando o texto em minusculo\n",
        "df_clean = df_clean.lower()\n",
        "\n",
        "#t = time()\n",
        "doc = nlp(df_clean)\n",
        "txt = cleaning(doc)\n",
        "\n",
        "print('O tempo para limpar tudo foi de: {} min'.format(round((time() - t) / 60, 2)))"
      ]
    },
    {
      "cell_type": "code",
      "execution_count": null,
      "metadata": {
        "id": "-9HM9-2InoG8"
      },
      "outputs": [],
      "source": [
        "txt = txt.split('\\n')"
      ]
    },
    {
      "cell_type": "code",
      "execution_count": null,
      "metadata": {
        "id": "5sO7NeMMYM29"
      },
      "outputs": [],
      "source": [
        "data_dict = {'clean': txt}\n",
        "df = pd.DataFrame(data_dict)\n",
        "df = df.dropna().drop_duplicates()\n",
        "df.shape"
      ]
    },
    {
      "cell_type": "code",
      "execution_count": null,
      "metadata": {
        "id": "R7H6HaFEl-rf"
      },
      "outputs": [],
      "source": [
        "df"
      ]
    },
    {
      "cell_type": "code",
      "execution_count": null,
      "metadata": {
        "id": "E-G10mmosZe-"
      },
      "outputs": [],
      "source": [
        "!pip install gensim\n",
        "from gensim.models.phrases import Phrases, Phraser"
      ]
    },
    {
      "cell_type": "code",
      "execution_count": null,
      "metadata": {
        "id": "97QQH44stYZU"
      },
      "outputs": [],
      "source": [
        "sent = [\n",
        "    row.split() for row in df['clean']\n",
        "]\n",
        "\n",
        "sent"
      ]
    },
    {
      "cell_type": "code",
      "execution_count": null,
      "metadata": {
        "id": "hoL2DI_kt3t8"
      },
      "outputs": [],
      "source": [
        "frases = Phrases(sent, min_count=1, progress_per=10)\n",
        "frases"
      ]
    },
    {
      "cell_type": "code",
      "execution_count": null,
      "metadata": {
        "id": "kMp_5NFfu51j"
      },
      "outputs": [],
      "source": [
        "bigram = Phraser(frases)\n",
        "sentences = bigram[sent]\n",
        "sentences"
      ]
    },
    {
      "cell_type": "code",
      "execution_count": null,
      "metadata": {
        "id": "FIKaJzGwvMtY"
      },
      "outputs": [],
      "source": [
        "word_freq = defaultdict(int)\n",
        "for sent in sentences:\n",
        "    for i in sent:\n",
        "        word_freq[i] += 1\n",
        "len(word_freq)"
      ]
    },
    {
      "cell_type": "code",
      "execution_count": null,
      "metadata": {
        "id": "3XyboqFLwLfh"
      },
      "outputs": [],
      "source": [
        "sorted(word_freq, key=word_freq.get, reverse=True)[:10]"
      ]
    },
    {
      "cell_type": "markdown",
      "metadata": {
        "id": "cuviR0SwwPNU"
      },
      "source": [
        "## 3.4 Treinando um modelo Word2Vec"
      ]
    },
    {
      "cell_type": "code",
      "execution_count": null,
      "metadata": {
        "id": "hB2za035wNeA"
      },
      "outputs": [],
      "source": [
        "cores = multiprocessing.cpu_count()"
      ]
    },
    {
      "cell_type": "code",
      "execution_count": null,
      "metadata": {
        "id": "IoO3na6twdjZ"
      },
      "outputs": [],
      "source": [
        "w2v_model = Word2Vec(min_count=3,\n",
        "                     window=5,\n",
        "                     sample=1e-3,\n",
        "                     alpha=0.03,\n",
        "                     min_alpha=0.0007,\n",
        "                     negative=20,\n",
        "                     workers=cores-1)\n",
        "t = time()\n",
        "\n",
        "#Vamos contruir o vocabulário\n",
        "w2v_model.build_vocab(sentences)\n",
        "\n",
        "print('Time to build vocab: {} mins'.format(round((time() - t) / 60, 2)))"
      ]
    },
    {
      "cell_type": "code",
      "execution_count": null,
      "metadata": {
        "id": "RS70gRFpwg2i"
      },
      "outputs": [],
      "source": [
        "t = time()\n",
        "\n",
        "w2v_model.train(sentences, total_examples=w2v_model.corpus_count, epochs=20, report_delay=1)\n",
        "\n",
        "print('Time to train the model: {} mins'.format(round((time() - t) / 60, 2)))"
      ]
    },
    {
      "cell_type": "code",
      "execution_count": null,
      "metadata": {
        "id": "Ss5N46Wowqph"
      },
      "outputs": [],
      "source": [
        "w2v_model.init_sims(replace=True)"
      ]
    },
    {
      "cell_type": "markdown",
      "metadata": {
        "id": "9mAanidsNVQl"
      },
      "source": [
        "## 3.5 Verificando o comportamento das palavras chaves"
      ]
    },
    {
      "cell_type": "code",
      "execution_count": null,
      "metadata": {
        "id": "k2oEjePBwriZ"
      },
      "outputs": [],
      "source": [
        "w2v_model.wv.most_similar(positive=[\"inflação\"])"
      ]
    },
    {
      "cell_type": "code",
      "execution_count": null,
      "metadata": {
        "id": "roJ05XRuw9po"
      },
      "outputs": [],
      "source": [
        "w2v_model.wv.most_similar(negative=[\"cenário\"])"
      ]
    },
    {
      "cell_type": "markdown",
      "metadata": {
        "id": "fLg5g2PP0baB"
      },
      "source": [
        "## 3.5 Conclusão modelo de PLN"
      ]
    },
    {
      "cell_type": "markdown",
      "metadata": {
        "id": "GKm6ZMsENlZF"
      },
      "source": [
        "Como é possível observar a palavra 'inflação' e acompanhada de palavras como 'projeção', '2023 e 2024', e valores númericos como '30' e '40'. Esse comportamento pode estar associado a preocupação da autoridade monetária em informar aos agentes economicos  sobre suas expectativas da inflação para os próximos anos, sempre reforçando a mensagem de que a analise da inflação é baseada em uma 'projecao' da expectativa futura. Já a palavra cenário tem uma correlação negativa com as com as palavras como'expectativa do entorno', 'consolidar_processo' isto indica que a autorizade monetária, normalmente, não utiliza estas palavras para descrever cenário atual da economia.\n",
        "\n",
        "É possível notar que o modelo foi capaz de ler as minutas das atas do Copom e encontrar as similaridades e dissimilaridades das palavras existentes nas minutas de maneira adquada esta analise é útil para que seja possível informar, principalmente a corretoras e bancos, quais são as expectativas da autoridade monetária Brasileira sobre o futuro da economia do Brasil, melhorando assim o processo de tomada de decisão."
      ]
    },
    {
      "cell_type": "code",
      "execution_count": null,
      "metadata": {
        "id": "7-7hlvH4oKuM"
      },
      "outputs": [],
      "source": []
    }
  ],
  "metadata": {
    "colab": {
      "toc_visible": true,
      "provenance": [],
      "authorship_tag": "ABX9TyMIYx2pBlXbijmJtb3lxcIK",
      "include_colab_link": true
    },
    "kernelspec": {
      "display_name": "Python 3",
      "name": "python3"
    },
    "language_info": {
      "name": "python"
    }
  },
  "nbformat": 4,
  "nbformat_minor": 0
}